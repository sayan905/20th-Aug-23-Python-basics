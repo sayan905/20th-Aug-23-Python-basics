{
 "cells": [
  {
   "cell_type": "markdown",
   "id": "77a13b66-fba9-4177-a509-36e71ba9789f",
   "metadata": {},
   "source": [
    "TOPIC: String Based Assignment Problem"
   ]
  },
  {
   "cell_type": "markdown",
   "id": "ff801b91-4f46-478a-a784-e5043ea663ee",
   "metadata": {},
   "source": [
    "1. Write a program to reverse a string."
   ]
  },
  {
   "cell_type": "code",
   "execution_count": 1,
   "id": "f90eb36f-8e72-4251-b14a-1d87c267e06d",
   "metadata": {},
   "outputs": [
    {
     "name": "stdin",
     "output_type": "stream",
     "text": [
      "enter your string:  hello\n"
     ]
    },
    {
     "name": "stdout",
     "output_type": "stream",
     "text": [
      "the reversed string is :  olleh\n"
     ]
    }
   ],
   "source": [
    "s = input(\"enter your string: \")\n",
    "print(\"the reversed string is : \", s[::-1])"
   ]
  },
  {
   "cell_type": "markdown",
   "id": "d0848511-4409-4710-8017-3af3ba402613",
   "metadata": {},
   "source": [
    "2. Check if a string is a palindrome."
   ]
  },
  {
   "cell_type": "code",
   "execution_count": 9,
   "id": "75cf1374-b8f9-4f5b-bc9f-64ff2ca554b9",
   "metadata": {},
   "outputs": [
    {
     "name": "stdin",
     "output_type": "stream",
     "text": [
      "enter your string:  yay\n"
     ]
    },
    {
     "name": "stdout",
     "output_type": "stream",
     "text": [
      "the string is a palindrone\n"
     ]
    }
   ],
   "source": [
    "s = input(\"enter your string: \")\n",
    "#s1 is a temp variable to store the reversed string\n",
    "s1 = s[::-1]\n",
    "if s == s1:\n",
    "    print(\"the string is a palindrone\")\n",
    "    \n",
    "else:\n",
    "    print(\"the string is not palindrone\")"
   ]
  },
  {
   "cell_type": "markdown",
   "id": "06804e89-3bae-474f-bcf3-1dcd5efb23c0",
   "metadata": {},
   "source": [
    "3. Convert a string to uppercase."
   ]
  },
  {
   "cell_type": "code",
   "execution_count": 12,
   "id": "e920c5f4-3ad9-4879-98d4-ee414765089e",
   "metadata": {},
   "outputs": [
    {
     "name": "stdin",
     "output_type": "stream",
     "text": [
      "enter your string:  sayan\n"
     ]
    },
    {
     "name": "stdout",
     "output_type": "stream",
     "text": [
      "the uppercase sirng is SAYAN\n"
     ]
    }
   ],
   "source": [
    "s = input(\"enter your string: \")\n",
    "print(\"the uppercase sirng is\" , s.upper() )"
   ]
  },
  {
   "cell_type": "markdown",
   "id": "fc12245b-eccd-427b-9b66-33d20c0f989b",
   "metadata": {},
   "source": [
    "4. Convert a string to lowercase."
   ]
  },
  {
   "cell_type": "code",
   "execution_count": 16,
   "id": "e4f3427c-9a07-4d07-a3a2-521db7ec0eb7",
   "metadata": {},
   "outputs": [
    {
     "name": "stdin",
     "output_type": "stream",
     "text": [
      "enter your string:  HELLO\n"
     ]
    },
    {
     "name": "stdout",
     "output_type": "stream",
     "text": [
      "the lowercaser tsirng is hello\n"
     ]
    }
   ],
   "source": [
    "s = input(\"enter your string: \")\n",
    "print(\"the lowercaser tsirng is\" , s.lower() )"
   ]
  },
  {
   "cell_type": "markdown",
   "id": "d0ded84d-159a-4b75-9eca-db25393d2590",
   "metadata": {},
   "source": [
    "5. Count the number of vowels in a string."
   ]
  },
  {
   "cell_type": "code",
   "execution_count": 15,
   "id": "80d6c630-31d1-4f96-90cb-15e09eb8ae08",
   "metadata": {},
   "outputs": [
    {
     "name": "stdin",
     "output_type": "stream",
     "text": [
      "enter your string:  sayan\n"
     ]
    },
    {
     "name": "stdout",
     "output_type": "stream",
     "text": [
      "the number of vowels is:  2\n"
     ]
    }
   ],
   "source": [
    "s = input(\"enter your string: \")\n",
    "count = 0\n",
    "vowels=[\"a\", \"A\", \"e\", \"E\", \"i\", \"I\", \"o\", \"O\", \"u\", \"U\"]\n",
    "for character in s:\n",
    "    #if vowel is found in the string it will increase the count by +1\n",
    "    if character in vowels:\n",
    "        count=count+1\n",
    "print(\"the number of vowels is: \", count)"
   ]
  },
  {
   "cell_type": "markdown",
   "id": "c0a37a21-536e-4b86-bcc7-46681d63f89d",
   "metadata": {},
   "source": [
    "6.Count the number of consonants in a string."
   ]
  },
  {
   "cell_type": "code",
   "execution_count": 21,
   "id": "e4ec3b5c-be64-40d7-9b4d-d8173ec5c552",
   "metadata": {},
   "outputs": [
    {
     "name": "stdin",
     "output_type": "stream",
     "text": [
      "enter your string:  sayansaha\n"
     ]
    },
    {
     "name": "stdout",
     "output_type": "stream",
     "text": [
      "the number of vowels is:  4\n",
      "the number of consonant is:  5\n"
     ]
    }
   ],
   "source": [
    "s = input(\"enter your string: \")\n",
    "count = 0\n",
    "consonant = 0\n",
    "vowels=[\"a\", \"A\", \"e\", \"E\", \"i\", \"I\", \"o\", \"O\", \"u\", \"U\"]\n",
    "for character in s:\n",
    "    #if vowel is found in the string it will increase the count by +1\n",
    "    if character in vowels:\n",
    "        count=count+1\n",
    "        #if consonant is found in the string it will increase the consonant by +1\n",
    "    else:\n",
    "        consonant=consonant+1;\n",
    "print(\"the number of vowels is: \", count)\n",
    "print(\"the number of consonant is: \", consonant)"
   ]
  },
  {
   "cell_type": "markdown",
   "id": "27a7cbfc-fe32-48c9-84da-a4042747259e",
   "metadata": {},
   "source": [
    "7. Remove all whitespaces from a string."
   ]
  },
  {
   "cell_type": "code",
   "execution_count": 23,
   "id": "f9b9cb31-1e9a-41f9-9489-a581a505ea13",
   "metadata": {},
   "outputs": [
    {
     "name": "stdin",
     "output_type": "stream",
     "text": [
      "Please enter the string :  s    a y an\n"
     ]
    },
    {
     "name": "stdout",
     "output_type": "stream",
     "text": [
      "the trimmed string is : sayan\n"
     ]
    }
   ],
   "source": [
    "str = input(\"Please enter the string : \")\n",
    "#it removes white spaces\n",
    "trim_str = str.replace(\" \", \"\")\n",
    "print(\"the trimmed string is :\", trim_str)"
   ]
  },
  {
   "cell_type": "markdown",
   "id": "a29accf8-71d1-40c0-9085-6647a33a3745",
   "metadata": {},
   "source": [
    "8. Find the length of a string without using the `len()` function.\n"
   ]
  },
  {
   "cell_type": "code",
   "execution_count": 29,
   "id": "5e214a33-1e5b-418a-8dc4-573b055bfa94",
   "metadata": {},
   "outputs": [
    {
     "name": "stdin",
     "output_type": "stream",
     "text": [
      "Please enter the string :  sayansaha\n"
     ]
    },
    {
     "name": "stdout",
     "output_type": "stream",
     "text": [
      "the length of string is:  9\n"
     ]
    }
   ],
   "source": [
    "str = input(\"Please enter the string : \")\n",
    "#count is initialised as 0\n",
    "count = 0\n",
    "#a for loop to count the characters\n",
    "for i in str:\n",
    " \n",
    "    count+=1\n",
    "print(\"the length of string is: \", count)\n"
   ]
  },
  {
   "cell_type": "markdown",
   "id": "c8ecd568-d1b0-4eaf-ba98-bc2e2dc46bd8",
   "metadata": {},
   "source": [
    "9. Check if a string contains a specific word."
   ]
  },
  {
   "cell_type": "code",
   "execution_count": 36,
   "id": "5f2fef47-cf7b-43fb-9ec6-1bd289b66522",
   "metadata": {},
   "outputs": [
    {
     "name": "stdin",
     "output_type": "stream",
     "text": [
      "Please enter the string :  i am sayan\n",
      "Plese enter the word to search:  am\n"
     ]
    },
    {
     "name": "stdout",
     "output_type": "stream",
     "text": [
      "word has been found\n"
     ]
    }
   ],
   "source": [
    "str = input(\"Please enter the string : \")\n",
    "#search is variable to hold the word to search\n",
    "search = input(\"Plese enter the word to search: \")\n",
    "#loop to check if serach word is present in string str\n",
    "if search in str:\n",
    "    print(\"word has been found\")\n",
    "else:\n",
    "    print(\"word has not been found\")"
   ]
  },
  {
   "cell_type": "markdown",
   "id": "4ca50a9b-09a0-421b-9ab3-116c1c4db6b2",
   "metadata": {},
   "source": [
    "10. Replace a word in a string with another word."
   ]
  },
  {
   "cell_type": "code",
   "execution_count": 42,
   "id": "a17325bf-0df5-43b8-a241-0a20f4bb0d2c",
   "metadata": {},
   "outputs": [
    {
     "name": "stdout",
     "output_type": "stream",
     "text": [
      "Bad Night\n"
     ]
    }
   ],
   "source": [
    "str = \"Good Night\"\n",
    "#replace function will replace the word\n",
    "new_str = str.replace(\"Good\", \"Bad\")\n",
    " \n",
    "print(new_str)"
   ]
  },
  {
   "cell_type": "markdown",
   "id": "1d8f3111-ec5c-4939-a8a2-6c7d20c9ad7d",
   "metadata": {},
   "source": [
    "11. Count the occurrences of a word in a string."
   ]
  },
  {
   "cell_type": "code",
   "execution_count": 48,
   "id": "2e23892f-8808-4a5e-9d82-56b54d57d5f7",
   "metadata": {},
   "outputs": [
    {
     "name": "stdin",
     "output_type": "stream",
     "text": [
      "Please enter the string :  sayan saha sayan is a man\n",
      "Please enter the word to search :  sayan\n"
     ]
    },
    {
     "name": "stdout",
     "output_type": "stream",
     "text": [
      "the word appears this many times :  2\n"
     ]
    }
   ],
   "source": [
    "str = input(\"Please enter the string : \")\n",
    "search = input(\"Please enter the word to search : \")\n",
    "#count function will search the string\n",
    "print(\"the word appears this many times : \", str.count(search))"
   ]
  },
  {
   "cell_type": "markdown",
   "id": "f520761a-7be9-4ecf-838b-012dd472404c",
   "metadata": {},
   "source": [
    "12. Find the first occurrence of a word in a string."
   ]
  },
  {
   "cell_type": "code",
   "execution_count": 52,
   "id": "59e62cd2-f537-49f1-a8f8-f0fa47060f70",
   "metadata": {},
   "outputs": [
    {
     "name": "stdin",
     "output_type": "stream",
     "text": [
      "Please enter the string :  sayan\n",
      "Please enter the word to search :  s\n"
     ]
    },
    {
     "name": "stdout",
     "output_type": "stream",
     "text": [
      "occurance of the following word is:  0\n"
     ]
    }
   ],
   "source": [
    "str = input(\"Please enter the string : \")\n",
    "search = input(\"Please enter the word to search : \")\n",
    "#find method is used to find the occurance\n",
    "print(\"occurance of the following word is: \", str.find(search))"
   ]
  },
  {
   "cell_type": "markdown",
   "id": "0165d552-df53-4246-ab71-aae1a2800660",
   "metadata": {},
   "source": [
    "13. Find the last occurrence of a word in a string."
   ]
  },
  {
   "cell_type": "code",
   "execution_count": 55,
   "id": "b3efe26e-14e7-4cb9-ae55-1091a3d50d57",
   "metadata": {},
   "outputs": [
    {
     "name": "stdin",
     "output_type": "stream",
     "text": [
      "Please enter the string :  sayansaha\n",
      "Please enter the word to search :  a\n"
     ]
    },
    {
     "name": "stdout",
     "output_type": "stream",
     "text": [
      "occurance of the following word is:  8\n"
     ]
    }
   ],
   "source": [
    "\n",
    "str = input(\"Please enter the string : \")\n",
    "search = input(\"Please enter the word to search : \")\n",
    "#rfind method is used to find the occurance\n",
    "print(\"occurance of the following word is: \", str.rfind(search))"
   ]
  },
  {
   "cell_type": "markdown",
   "id": "39dd50be-9167-48e8-8a79-ca54fafe75a5",
   "metadata": {},
   "source": [
    "14. Split a string into a list of words."
   ]
  },
  {
   "cell_type": "code",
   "execution_count": 56,
   "id": "9e7adef4-536a-458a-9fce-489ce22a3255",
   "metadata": {},
   "outputs": [
    {
     "name": "stdin",
     "output_type": "stream",
     "text": [
      "Please enter the string :  i am sayan\n"
     ]
    },
    {
     "name": "stdout",
     "output_type": "stream",
     "text": [
      "the splitted words are:  ['i', 'am', 'sayan']\n"
     ]
    }
   ],
   "source": [
    "str = input(\"Please enter the string : \")\n",
    "print(\"the splitted words are: \", str.split())"
   ]
  },
  {
   "cell_type": "markdown",
   "id": "737ba203-a7d7-4cbb-bf6a-c232f0267de3",
   "metadata": {},
   "source": [
    "15. Join a list of words into a string."
   ]
  },
  {
   "cell_type": "code",
   "execution_count": 57,
   "id": "a8034975-5524-487e-8033-0c23304fd8ed",
   "metadata": {},
   "outputs": [
    {
     "name": "stdout",
     "output_type": "stream",
     "text": [
      "joined list is:  i am sayan\n"
     ]
    }
   ],
   "source": [
    "list = [\"i\", \"am\", \"sayan\"]\n",
    "new_list = \" \".join(list)\n",
    "print(\"joined list is: \", new_list)\n"
   ]
  },
  {
   "cell_type": "markdown",
   "id": "858a6847-4027-409d-ac65-83ccc27826b8",
   "metadata": {},
   "source": [
    "16. Convert a string where words are separated by spaces to one where words\n",
    "are separated by underscores."
   ]
  },
  {
   "cell_type": "code",
   "execution_count": 3,
   "id": "aecf5cf2-4225-4ffc-9715-7edc0b7430f9",
   "metadata": {},
   "outputs": [
    {
     "name": "stdin",
     "output_type": "stream",
     "text": [
      "Please enter the string :  s a y a n\n"
     ]
    },
    {
     "name": "stdout",
     "output_type": "stream",
     "text": [
      "the new string is:  s_a_y_a_n\n"
     ]
    }
   ],
   "source": [
    "str = input(\"Please enter the string : \")\n",
    "#str replace function is used to remove spaces and replace it with underscore\n",
    "new_str = str.replace(\" \", \"_\")\n",
    "print(\"the new string is: \", new_str)"
   ]
  },
  {
   "cell_type": "markdown",
   "id": "760244cd-4c05-45ca-a05b-0fe31c5e5013",
   "metadata": {},
   "source": [
    "17. Check if a string starts with a specific word or phrase."
   ]
  },
  {
   "cell_type": "code",
   "execution_count": 2,
   "id": "9350058b-e340-4ff1-9835-8537b54db22a",
   "metadata": {},
   "outputs": [
    {
     "name": "stdin",
     "output_type": "stream",
     "text": [
      "Please enter the string :  sayan saha\n",
      "Please enter the word to search:  saha\n"
     ]
    },
    {
     "name": "stdout",
     "output_type": "stream",
     "text": [
      "the string doesn't start with the entered word\n"
     ]
    }
   ],
   "source": [
    "str = input(\"Please enter the string : \")\n",
    "search = input(\"Please enter the word to search: \")\n",
    "result = str.startswith(search)\n",
    "temp = result\n",
    "if temp == True:\n",
    " print(\"the string starts with the entered word\")\n",
    "else:\n",
    " print(\"the string doesn't start with the entered word\")\n"
   ]
  },
  {
   "cell_type": "markdown",
   "id": "3ab5aa28-704c-4458-97cd-2e7ae498e4de",
   "metadata": {},
   "source": [
    "18. Check if a string ends with a specific word or phrase."
   ]
  },
  {
   "cell_type": "code",
   "execution_count": 14,
   "id": "20e160f5-66cc-4325-a459-607728ed9c1c",
   "metadata": {},
   "outputs": [
    {
     "name": "stdin",
     "output_type": "stream",
     "text": [
      "Please enter the string :  sayan saha\n",
      "Please enter the word to search:  saha\n"
     ]
    },
    {
     "name": "stdout",
     "output_type": "stream",
     "text": [
      "the string ends with the entered word\n"
     ]
    }
   ],
   "source": [
    "str = input(\"Please enter the string : \")\n",
    "search = input(\"Please enter the word to search: \")\n",
    "result = str.endswith(search)\n",
    "temp = result\n",
    "if temp == True:\n",
    " print(\"the string ends with the entered word\")\n",
    "else:\n",
    " print(\"the string doesn't end with the entered word\")"
   ]
  },
  {
   "cell_type": "markdown",
   "id": "3619f7fe-081e-4dd7-83fa-6ead2fd63fa4",
   "metadata": {},
   "source": [
    "19. Convert a string to title case (e.g., \"hello world\" to \"Hello World\")."
   ]
  },
  {
   "cell_type": "code",
   "execution_count": 19,
   "id": "a560b061-7059-4871-8cc6-5e5bff6e2eb8",
   "metadata": {},
   "outputs": [
    {
     "name": "stdin",
     "output_type": "stream",
     "text": [
      "Please enter the string :  hello world\n"
     ]
    },
    {
     "name": "stdout",
     "output_type": "stream",
     "text": [
      "the captilized string is:  Hello World\n"
     ]
    }
   ],
   "source": [
    "str = input(\"Please enter the string : \")\n",
    "new_str = str.title()\n",
    "print(\"the captilized string is: \", new_str)"
   ]
  },
  {
   "cell_type": "markdown",
   "id": "32c9c797-57d7-4c4c-b9b6-6571ca823eb4",
   "metadata": {},
   "source": [
    "20. Find the longest word in a string."
   ]
  },
  {
   "cell_type": "code",
   "execution_count": 20,
   "id": "57c49162-8128-41e7-8c1b-cfb2f0eabcc4",
   "metadata": {},
   "outputs": [
    {
     "name": "stdin",
     "output_type": "stream",
     "text": [
      "Please enter the word :  i am sayan\n"
     ]
    },
    {
     "name": "stdout",
     "output_type": "stream",
     "text": [
      "Longest word: sayan\n"
     ]
    }
   ],
   "source": [
    "\n",
    "sentence =  input(\"Please enter the word : \")\n",
    "\n",
    "words = sentence.split() \n",
    "longest_word = '' \n",
    "\n",
    "for word in words:\n",
    "    if len(word) > len(longest_word):\n",
    "        longest_word = word\n",
    "\n",
    "print(\"Longest word:\", longest_word) \n"
   ]
  },
  {
   "cell_type": "markdown",
   "id": "4ad71cb0-87b6-45b5-a1e0-771c18441797",
   "metadata": {},
   "source": [
    "21. Find the shortest word in a string."
   ]
  },
  {
   "cell_type": "code",
   "execution_count": 3,
   "id": "43214c3d-8e9a-4d10-bbd6-0d517a0e8270",
   "metadata": {},
   "outputs": [
    {
     "name": "stdin",
     "output_type": "stream",
     "text": [
      "Please enter the word :  hey its a good day\n"
     ]
    },
    {
     "name": "stdout",
     "output_type": "stream",
     "text": [
      "smallest word: a\n"
     ]
    }
   ],
   "source": [
    "sentence =  input(\"Please enter the word : \")\n",
    "\n",
    "words = sentence.split() \n",
    "small_word = words[0] \n",
    "\n",
    "for word in words:\n",
    "    if len(word) < len(small_word):\n",
    "        small_word = word\n",
    "\n",
    "print(\"smallest word:\", small_word) "
   ]
  },
  {
   "cell_type": "markdown",
   "id": "33526692-fb56-4f75-9c3c-95bcc20509fd",
   "metadata": {},
   "source": [
    "22. Reverse the order of words in a string."
   ]
  },
  {
   "cell_type": "code",
   "execution_count": 34,
   "id": "dd0da2fd-bb32-41ee-995d-a126c3eb9379",
   "metadata": {},
   "outputs": [
    {
     "name": "stdin",
     "output_type": "stream",
     "text": [
      "enter your word: i am sayan\n"
     ]
    },
    {
     "name": "stdout",
     "output_type": "stream",
     "text": [
      "sayan am i\n"
     ]
    }
   ],
   "source": [
    "\n",
    "s = input(\"enter your word:\")\n",
    "# split first\n",
    "a = s.split()\n",
    "# reverse list\n",
    "a.reverse()\n",
    "# now join them\n",
    "result = \" \".join(a)\n",
    "print(result)\n"
   ]
  },
  {
   "cell_type": "markdown",
   "id": "8b23cd73-bbe8-46f3-90ee-81ba6af78f56",
   "metadata": {},
   "source": [
    "23. Check if a string is alphanumeric."
   ]
  },
  {
   "cell_type": "code",
   "execution_count": 8,
   "id": "b869e4b4-9e6b-4e3a-9aab-f953cba2bdb0",
   "metadata": {},
   "outputs": [
    {
     "name": "stdin",
     "output_type": "stream",
     "text": [
      "Please enter the string :  hi\n"
     ]
    },
    {
     "name": "stdout",
     "output_type": "stream",
     "text": [
      "True\n",
      "list is alphanumeric\n"
     ]
    }
   ],
   "source": [
    "str =  input(\"Please enter the string : \")\n",
    "check = str.isalnum()\n",
    "print(check)\n",
    "if check == True:\n",
    "   print(\"list is alphanumeric\")\n",
    "    \n",
    "else:\n",
    "\n",
    "   print(\"list is not alphanumeric\")"
   ]
  },
  {
   "cell_type": "markdown",
   "id": "d740b85d-4333-4127-bb15-289e52dcec73",
   "metadata": {},
   "source": [
    "24. Extract all digits from a string."
   ]
  },
  {
   "cell_type": "code",
   "execution_count": 5,
   "id": "bfd80382-ab99-4592-82fa-3172b443c6d7",
   "metadata": {},
   "outputs": [
    {
     "name": "stdout",
     "output_type": "stream",
     "text": [
      "The string is : \n",
      "sayan 1 2 saha\n",
      "The numbers list is :\n",
      "[1, 2]\n"
     ]
    }
   ],
   "source": [
    "my_string = \"sayan 1 2 saha\"\n",
    "\n",
    "print(\"The string is : \")\n",
    "print(my_string)\n",
    "\n",
    "my_result = [int(i) for i in my_string.split() if i.isdigit()]\n",
    "\n",
    "print(\"The numbers list is :\")\n",
    "print(my_result)"
   ]
  },
  {
   "cell_type": "markdown",
   "id": "7c831f6f-8505-4fc7-96b4-10083325e725",
   "metadata": {},
   "source": [
    "25. Extract all alphabets from a string.\n"
   ]
  },
  {
   "cell_type": "code",
   "execution_count": 8,
   "id": "1ff8379f-39a4-4afb-9ebd-87a697ed48c9",
   "metadata": {},
   "outputs": [
    {
     "name": "stdout",
     "output_type": "stream",
     "text": [
      "The string is : \n",
      "sayan 1 2 saha\n",
      "The alphabet list is :\n",
      "['sayan', 'saha']\n"
     ]
    }
   ],
   "source": [
    "my_string = \"sayan 1 2 saha\"\n",
    "\n",
    "print(\"The string is : \")\n",
    "print(my_string)\n",
    "\n",
    "my_result = [(i) for i in my_string.split() if i.isalpha()]\n",
    "\n",
    "print(\"The alphabet list is :\")\n",
    "print(my_result)"
   ]
  },
  {
   "cell_type": "markdown",
   "id": "de171e89-a5b8-4431-93b4-86a4892c0455",
   "metadata": {},
   "source": [
    "26. Count the number of uppercase letters in a string."
   ]
  },
  {
   "cell_type": "code",
   "execution_count": 10,
   "id": "df86cd24-2eca-4ae1-a073-901ca58d3ae9",
   "metadata": {},
   "outputs": [
    {
     "name": "stdout",
     "output_type": "stream",
     "text": [
      "The number of uppercase characters is: 5\n"
     ]
    }
   ],
   "source": [
    "my_string = \"I AM Sayan Saha\"\n",
    "upper = 0\n",
    "for i in my_string:\n",
    "    if(i.isupper()):\n",
    "        upper = upper + 1\n",
    "print(\"The number of uppercase characters is:\",upper)"
   ]
  },
  {
   "cell_type": "markdown",
   "id": "b5e8e6be-3966-4d00-ae12-72370fed306b",
   "metadata": {},
   "source": [
    "27. Count the number of lowercase letters in a string."
   ]
  },
  {
   "cell_type": "code",
   "execution_count": 3,
   "id": "534e5676-801a-4ab2-90ae-3eac0e8f431f",
   "metadata": {},
   "outputs": [
    {
     "name": "stdout",
     "output_type": "stream",
     "text": [
      "the number of lowercase characters is: 8\n"
     ]
    }
   ],
   "source": [
    "my_string = \"i AM Sayan Saha\"\n",
    "lower = 0\n",
    "for check in my_string:\n",
    "    if check.islower() == True:\n",
    "        lower = lower + 1\n",
    "print(\"the number of lowercase characters is:\", lower)"
   ]
  },
  {
   "cell_type": "markdown",
   "id": "5e08e740-ab94-4fc1-bcd3-ac1c2c322dab",
   "metadata": {},
   "source": [
    "28. Swap the case of each character in a string."
   ]
  },
  {
   "cell_type": "code",
   "execution_count": 5,
   "id": "d5a4f816-e4be-40d2-a144-77cf9b5e16c7",
   "metadata": {},
   "outputs": [
    {
     "name": "stdin",
     "output_type": "stream",
     "text": [
      "enter your string sAyaN\n"
     ]
    },
    {
     "name": "stdout",
     "output_type": "stream",
     "text": [
      "the string after case swapping is SaYAn\n"
     ]
    }
   ],
   "source": [
    "str = input(\"enter your string\")\n",
    "str_new = str.swapcase()\n",
    "print(\"the string after case swapping is\", str_new)"
   ]
  },
  {
   "cell_type": "markdown",
   "id": "f6bab605-74f6-4b77-bacf-490b28020d2a",
   "metadata": {},
   "source": [
    "29. Remove a specific word from a string."
   ]
  },
  {
   "cell_type": "code",
   "execution_count": 9,
   "id": "07efee01-213f-4530-8d65-b53b2b94d746",
   "metadata": {},
   "outputs": [
    {
     "name": "stdin",
     "output_type": "stream",
     "text": [
      "enter your string i love coding\n",
      "enter word to be removed coding\n"
     ]
    },
    {
     "name": "stdout",
     "output_type": "stream",
     "text": [
      "i love \n"
     ]
    }
   ],
   "source": [
    "str = input(\"enter your string\")\n",
    "str_remove = input(\"enter word to be removed\")\n",
    "str_new = str.replace(str_remove, \"\")\n",
    "print(str_new)"
   ]
  },
  {
   "cell_type": "markdown",
   "id": "d032fd84-3339-4d12-aebc-fd9d5add0b56",
   "metadata": {},
   "source": [
    "30. Check if a string is a valid email address."
   ]
  },
  {
   "cell_type": "code",
   "execution_count": 13,
   "id": "d98bb639-5d12-49b2-98ca-4dc1e278546e",
   "metadata": {},
   "outputs": [
    {
     "name": "stdin",
     "output_type": "stream",
     "text": [
      "enter the string to validate:  sayan99@gmail.com\n"
     ]
    },
    {
     "name": "stdout",
     "output_type": "stream",
     "text": [
      "True\n"
     ]
    }
   ],
   "source": [
    "import re\n",
    "\n",
    "def validate_email(s):\n",
    "   pat = \"^[a-zA-Z0-9-_]+@[a-zA-Z0-9]+\\.[a-z]{1,3}$\"\n",
    "   if re.match(pat,s):\n",
    "      return True\n",
    "   return False\n",
    "\n",
    "s = input(\"enter the string to validate: \")\n",
    "print(validate_email(s))\n"
   ]
  },
  {
   "cell_type": "markdown",
   "id": "639b5f5f-4c7b-4fae-b3d4-6626b0b5726b",
   "metadata": {},
   "source": [
    "31. Extract the username from an email address string."
   ]
  },
  {
   "cell_type": "code",
   "execution_count": 28,
   "id": "0a76a808-1c4c-4462-b17e-07cef4fce242",
   "metadata": {},
   "outputs": [
    {
     "name": "stdin",
     "output_type": "stream",
     "text": [
      "enter a string to check: sayansaha905@gmail.com\n"
     ]
    },
    {
     "name": "stdout",
     "output_type": "stream",
     "text": [
      "sayansaha905\n"
     ]
    }
   ],
   "source": [
    "str = input(\"enter a string to check:\")\n",
    "temp = str.index(\"@\")\n",
    "user_name = str[0:temp]\n",
    "print(user_name)"
   ]
  },
  {
   "cell_type": "markdown",
   "id": "55748964-9c41-4101-b0d5-c371259e65e2",
   "metadata": {},
   "source": [
    "32. Extract the domain name from an email address string."
   ]
  },
  {
   "cell_type": "code",
   "execution_count": 23,
   "id": "98a6982b-412b-4acf-8a68-fecaa49082d3",
   "metadata": {},
   "outputs": [
    {
     "name": "stdin",
     "output_type": "stream",
     "text": [
      "enter a string to check: sayansaha905@gmail.com\n"
     ]
    },
    {
     "name": "stdout",
     "output_type": "stream",
     "text": [
      "gmail.com\n"
     ]
    }
   ],
   "source": [
    "str = input(\"enter a string to check:\")\n",
    "temp = str.index(\"@\") + 1\n",
    "domain_name = str[temp:]\n",
    "print(domain_name)"
   ]
  },
  {
   "cell_type": "markdown",
   "id": "1d79f283-74f1-41a5-b118-292be7759a4c",
   "metadata": {},
   "source": [
    "33. Replace multiple spaces in a string with a single space."
   ]
  },
  {
   "cell_type": "code",
   "execution_count": 30,
   "id": "5fb29f1e-176e-45ff-ba66-7f0aab5c19d0",
   "metadata": {},
   "outputs": [
    {
     "name": "stdin",
     "output_type": "stream",
     "text": [
      "enter the string to clean: hello  who    is this\n"
     ]
    },
    {
     "name": "stdout",
     "output_type": "stream",
     "text": [
      "hello  who    is this\n",
      "['hello', 'who', 'is', 'this']\n",
      "hello who is this\n"
     ]
    }
   ],
   "source": [
    "str = input(\"enter the string to clean:\")\n",
    "print(str)\n",
    "str_temp = str.split()\n",
    "print(str_temp)\n",
    "str_new = \" \".join(str_temp)\n",
    "print(str_new)"
   ]
  },
  {
   "cell_type": "markdown",
   "id": "9d8ade4f-eb1c-4396-aca1-2fd995dc5945",
   "metadata": {},
   "source": [
    "34. Check if a string is a valid URL."
   ]
  },
  {
   "cell_type": "code",
   "execution_count": 34,
   "id": "50a1ae89-c3f2-4f7f-a882-53e6ab729e88",
   "metadata": {},
   "outputs": [
    {
     "name": "stdin",
     "output_type": "stream",
     "text": [
      "enter the string to validate:  https://google.com\n"
     ]
    },
    {
     "name": "stdout",
     "output_type": "stream",
     "text": [
      "True\n"
     ]
    }
   ],
   "source": [
    "import re\n",
    "\n",
    "def validate_url(s):\n",
    "   pat = r'^(http|https):\\/\\/([\\w.-]+)(\\.[\\w.-]+)+([\\/\\w\\.-]*)*\\/?$'\n",
    "   if re.match(pat,s):\n",
    "      return True\n",
    "   return False\n",
    "\n",
    "s = input(\"enter the string to validate: \")\n",
    "print(validate_url(s))"
   ]
  },
  {
   "cell_type": "markdown",
   "id": "47f4369d-b484-4810-8b53-554dd0e577fc",
   "metadata": {},
   "source": [
    "35.Extract the protocol (http or https) from a URL string."
   ]
  },
  {
   "cell_type": "code",
   "execution_count": 36,
   "id": "8ae27ed3-cfec-4165-b5d6-8f20e640c2d3",
   "metadata": {},
   "outputs": [
    {
     "name": "stdin",
     "output_type": "stream",
     "text": [
      "enter the string url https://google.com\n"
     ]
    },
    {
     "name": "stdout",
     "output_type": "stream",
     "text": [
      "https\n"
     ]
    }
   ],
   "source": [
    "str = input(\"enter the string url\")\n",
    "temp = str.index(\":\")\n",
    "str_new = str[0:temp]\n",
    "print(str_new)"
   ]
  },
  {
   "cell_type": "markdown",
   "id": "9c0de51c-421a-4c8d-a62c-edc220a1c7ab",
   "metadata": {},
   "source": [
    "36. Find the frequency of each character in a string."
   ]
  },
  {
   "cell_type": "code",
   "execution_count": 9,
   "id": "dd1dac5d-ca7e-4e0f-8335-7477ba957992",
   "metadata": {},
   "outputs": [
    {
     "name": "stdout",
     "output_type": "stream",
     "text": [
      "{'s': 2, 'a': 4, 'y': 1, 'n': 1, 'h': 1}\n"
     ]
    }
   ],
   "source": [
    "\n",
    "test_str = \"sayansaha\"\n",
    "\n",
    "all_freq = {}\n",
    " \n",
    "for i in test_str:\n",
    "    if i in all_freq:\n",
    "        all_freq[i] += 1\n",
    "    else:\n",
    "        all_freq[i] = 1\n",
    " \n",
    "print(str(all_freq))"
   ]
  },
  {
   "cell_type": "markdown",
   "id": "b0124c93-8704-46bb-860c-8c510acb3087",
   "metadata": {},
   "source": [
    "37. Remove all punctuation from a string."
   ]
  },
  {
   "cell_type": "code",
   "execution_count": 13,
   "id": "899b4757-41d0-4ee7-bc69-a2b91d5a4b79",
   "metadata": {},
   "outputs": [
    {
     "name": "stdout",
     "output_type": "stream",
     "text": [
      "The string after punctuation filter : I am sayan saha \n"
     ]
    }
   ],
   "source": [
    "test_str = \"I! am: sayan, saha ;\"\n",
    "\n",
    "punc = '''!()-[]{};:'\"\\,<>./?@#$%^&*_~'''\n",
    " \n",
    "for i in test_str:\n",
    "    if i in punc:\n",
    "        test_str = test_str.replace(i, \"\")\n",
    "\n",
    "print(\"The string after punctuation filter : \" + test_str)"
   ]
  },
  {
   "cell_type": "markdown",
   "id": "f4051218-fb49-4ac1-a825-0444aa33688a",
   "metadata": {},
   "source": [
    "38. Check if a string contains only digits."
   ]
  },
  {
   "cell_type": "code",
   "execution_count": 20,
   "id": "41e844b8-ab2f-4a68-be9d-90bcb093e154",
   "metadata": {},
   "outputs": [
    {
     "name": "stdin",
     "output_type": "stream",
     "text": [
      "enter the string 23445\n"
     ]
    },
    {
     "name": "stdout",
     "output_type": "stream",
     "text": [
      "the string contains only digits\n"
     ]
    }
   ],
   "source": [
    "str = input(\"enter the string\")\n",
    "if str.isdigit() == True:\n",
    "    print(\"the string contains only digits\")\n",
    "else: \n",
    "    print(\"the string doesn't contain only digits\")"
   ]
  },
  {
   "cell_type": "markdown",
   "id": "ede46ae9-4a95-40dd-83d5-f70c77ac05c5",
   "metadata": {},
   "source": [
    "39. Check if a string contains only alphabets."
   ]
  },
  {
   "cell_type": "code",
   "execution_count": 22,
   "id": "2a98e274-68a0-4bfb-a7ae-35da4ba89b43",
   "metadata": {},
   "outputs": [
    {
     "name": "stdin",
     "output_type": "stream",
     "text": [
      "enter the string sayan\n"
     ]
    },
    {
     "name": "stdout",
     "output_type": "stream",
     "text": [
      "the string contains only alphabeta\n"
     ]
    }
   ],
   "source": [
    "str = input(\"enter the string\")\n",
    "if str.isalpha() == True:\n",
    "    print(\"the string contains only alphabeta\")\n",
    "else: \n",
    "    print(\"the string doesn't contain only alphabeta\")"
   ]
  },
  {
   "cell_type": "markdown",
   "id": "d27812f4-69d9-4ebf-814c-68a8c95edd87",
   "metadata": {},
   "source": [
    "40. Convert a string to a list of characters."
   ]
  },
  {
   "cell_type": "code",
   "execution_count": 23,
   "id": "2e3f8ac4-e0d4-4733-b39f-01483a6e724e",
   "metadata": {},
   "outputs": [
    {
     "name": "stdin",
     "output_type": "stream",
     "text": [
      "enter the string i am sayan\n"
     ]
    },
    {
     "name": "stdout",
     "output_type": "stream",
     "text": [
      "['i', 'am', 'sayan']\n"
     ]
    }
   ],
   "source": [
    "str = input(\"enter the string\")\n",
    "str_new = str.split()\n",
    "print(str_new)"
   ]
  },
  {
   "cell_type": "markdown",
   "id": "bb4fcba5-f2f7-4c31-9ba4-678b2cf070d5",
   "metadata": {},
   "source": [
    "41. Check if two strings are anagrams."
   ]
  },
  {
   "cell_type": "code",
   "execution_count": 1,
   "id": "39a602b3-8fa0-4c97-8793-e70945fba3ce",
   "metadata": {},
   "outputs": [
    {
     "name": "stdout",
     "output_type": "stream",
     "text": [
      "The strings are anagrams.\n"
     ]
    }
   ],
   "source": [
    "s1 =\"listen\"\n",
    "s2 =\"silent\"\n",
    "     \n",
    "if(sorted(s1)== sorted(s2)):\n",
    "    print(\"The strings are anagrams.\") \n",
    "else:\n",
    "    print(\"The strings aren't anagrams.\")         "
   ]
  },
  {
   "cell_type": "markdown",
   "id": "2b96d303-0651-4433-8163-c926b74659e7",
   "metadata": {},
   "source": [
    "42. Encode a string using a Caesar cipher."
   ]
  },
  {
   "cell_type": "code",
   "execution_count": 9,
   "id": "3e8dee61-50d5-4c40-bbc0-99543d4d6b33",
   "metadata": {},
   "outputs": [
    {
     "name": "stdout",
     "output_type": "stream",
     "text": [
      "Text  : HELLOSAYAN\n",
      "Shift : 4\n",
      "Cipher: LIPPSWECER\n"
     ]
    }
   ],
   "source": [
    "def encrypt(text,s):\n",
    "    result = \"\"\n",
    "\n",
    "    for i in range(len(text)):\n",
    "        char = text[i]\n",
    " \n",
    "        if (char.isupper()):\n",
    "            result += chr((ord(char) + s-65) % 26 + 65)\n",
    " \n",
    "        else:\n",
    "            result += chr((ord(char) + s - 97) % 26 + 97)\n",
    " \n",
    "    return result\n",
    " \n",
    "text = \"HELLOSAYAN\"\n",
    "s = 4\n",
    "print (\"Text  : \" + text)\n",
    "print (\"Shift : \" + str(s))\n",
    "print (\"Cipher: \" + encrypt(text,s))"
   ]
  },
  {
   "cell_type": "markdown",
   "id": "835c2afa-33bf-4787-8e50-7664dc18b6a1",
   "metadata": {},
   "source": [
    "43. Decode a Caesar cipher encoded string."
   ]
  },
  {
   "cell_type": "code",
   "execution_count": 20,
   "id": "5a8a624e-facb-4944-a463-dd48fddddcb3",
   "metadata": {},
   "outputs": [
    {
     "name": "stdout",
     "output_type": "stream",
     "text": [
      "Text  : LIPPSWECER\n",
      "Shift : -4\n",
      "Cipher: HELLOSAYAN\n"
     ]
    }
   ],
   "source": [
    "def encrypt(text,s):\n",
    "    result = \"\"\n",
    "\n",
    "    for i in range(len(text)):\n",
    "        char = text[i]\n",
    " \n",
    "        if (char.isupper()):\n",
    "            result += chr((ord(char) + s-65) % 26 + 65)\n",
    " \n",
    "        else:\n",
    "            result += chr((ord(char) + s - 97) % 26 + 97)\n",
    " \n",
    "    return result\n",
    " \n",
    "text = \"LIPPSWECER\"\n",
    "s = -4\n",
    "print (\"Text  : \" + text)\n",
    "print (\"Shift : \" + str(s))\n",
    "print (\"Cipher: \" + encrypt(text,s))"
   ]
  },
  {
   "cell_type": "markdown",
   "id": "893ba436-fb0e-49aa-b45d-3940d4382d04",
   "metadata": {},
   "source": [
    "44. Find the most frequent word in a string."
   ]
  },
  {
   "cell_type": "code",
   "execution_count": 1,
   "id": "3ca465ef-3300-4335-9402-b70556ab1a95",
   "metadata": {},
   "outputs": [
    {
     "name": "stdout",
     "output_type": "stream",
     "text": [
      "The original list is : ['i am sayan', 'sayan is great', 'sayan']\n",
      "Word with maximum frequency : sayan\n"
     ]
    }
   ],
   "source": [
    "from collections import defaultdict\n",
    " \n",
    "\n",
    "test_list = [\"i am sayan\", \"sayan is great\", \"sayan\"]\n",
    " \n",
    "print(\"The original list is : \" + str(test_list))\n",
    " \n",
    "temp = defaultdict(int)\n",
    " \n",
    "for sub in test_list:\n",
    "    for wrd in sub.split():\n",
    "        temp[wrd] += 1\n",
    " \n",
    "res = max(temp, key=temp.get)\n",
    " \n",
    "print(\"Word with maximum frequency : \" + str(res))"
   ]
  },
  {
   "cell_type": "markdown",
   "id": "ce257833-db0b-4605-a9a0-8d698755efcc",
   "metadata": {},
   "source": [
    "45. Find all unique words in a string."
   ]
  },
  {
   "cell_type": "code",
   "execution_count": 3,
   "id": "493a40ff-9135-4819-b729-b8a0fa162748",
   "metadata": {},
   "outputs": [
    {
     "name": "stdout",
     "output_type": "stream",
     "text": [
      "is\n",
      "sayan\n"
     ]
    }
   ],
   "source": [
    "str = \"sayan is sayan\"\n",
    "\n",
    "temp = set(str.split())\n",
    "\n",
    "for i in temp:\n",
    "    print(i)"
   ]
  },
  {
   "cell_type": "markdown",
   "id": "65c38b63-f083-4e47-837f-f495f28515cd",
   "metadata": {},
   "source": [
    "46. Count the number of syllables in a string."
   ]
  },
  {
   "cell_type": "code",
   "execution_count": 6,
   "id": "b834b5f5-3104-43de-86d5-fbe8d2742830",
   "metadata": {},
   "outputs": [
    {
     "data": {
      "text/plain": [
       "3"
      ]
     },
     "execution_count": 6,
     "metadata": {},
     "output_type": "execute_result"
    }
   ],
   "source": [
    "def syllables(word):\n",
    "    count = 0\n",
    "    vowels = 'aeiouy'\n",
    "    word = word.lower().strip(\".:;?!\")\n",
    "    if word[0] in vowels:\n",
    "        count +=1\n",
    "    for index in range(1,len(word)):\n",
    "        if word[index] in vowels and word[index-1] not in vowels:\n",
    "            count +=1\n",
    "    if word.endswith('e'):\n",
    "        count -= 1\n",
    "    if word.endswith('le'):\n",
    "        count+=1\n",
    "    if count == 0:\n",
    "        count +=1\n",
    "    return count\n",
    "\n",
    "syllables(\"i am sayan\")"
   ]
  },
  {
   "cell_type": "markdown",
   "id": "650720bd-4529-4295-a513-12f048511c9c",
   "metadata": {},
   "source": [
    "47. Check if a string contains any special characters."
   ]
  },
  {
   "cell_type": "code",
   "execution_count": 14,
   "id": "80e913d6-3363-4c84-a293-cea13dead750",
   "metadata": {},
   "outputs": [
    {
     "name": "stdout",
     "output_type": "stream",
     "text": [
      "the string contains 3 no. special character\n"
     ]
    }
   ],
   "source": [
    "str = \"!sayan123@#\"\n",
    "sp_char=\"@#!-_\"\n",
    "count = 0\n",
    "\n",
    "for i in str:\n",
    "    if i in sp_char:\n",
    "       count = count + 1\n",
    "if count > 0:\n",
    "    print(f\"the string contains {count} no. special character\")"
   ]
  },
  {
   "cell_type": "markdown",
   "id": "b55551aa-0dab-45f4-a27c-7b8e347f79bb",
   "metadata": {},
   "source": [
    "48. Remove the nth word from a string."
   ]
  },
  {
   "cell_type": "code",
   "execution_count": 31,
   "id": "9cb6e760-e8fe-42fa-abdf-c9ad5e012716",
   "metadata": {},
   "outputs": [
    {
     "name": "stdout",
     "output_type": "stream",
     "text": [
      "Updated list is:  ['sayan', 'for']\n"
     ]
    },
    {
     "data": {
      "text/plain": [
       "['sayan', 'for']"
      ]
     },
     "execution_count": 31,
     "metadata": {},
     "output_type": "execute_result"
    }
   ],
   "source": [
    "def RemoveIthWord(lst, word, N):\n",
    "    newList = []\n",
    "    count = 0\n",
    " \n",
    "    for i in lst:\n",
    "        if(i == word):\n",
    "            count = count + 1\n",
    "            if(count != N):\n",
    "                newList.append(i)\n",
    "        else:\n",
    "            newList.append(i)\n",
    " \n",
    "    lst = newList\n",
    " \n",
    "    if count == 0:\n",
    "        print(\"Item not found\")\n",
    "    else:\n",
    "        print(\"Updated list is: \", lst)\n",
    " \n",
    "    return newList\n",
    " \n",
    "list = [\"sayan\", \"for\", \"sayan\"]\n",
    "word = \"sayan\"\n",
    "N = 2\n",
    " \n",
    "RemoveIthWord(list, word, N)"
   ]
  },
  {
   "cell_type": "markdown",
   "id": "dddff21b-09ac-4bcf-8c39-a4e7dec323cf",
   "metadata": {},
   "source": [
    "49. Insert a word at the nth position in a string."
   ]
  },
  {
   "cell_type": "code",
   "execution_count": 34,
   "id": "fba972c4-f389-4461-9b2f-a7f1e9481d94",
   "metadata": {},
   "outputs": [
    {
     "name": "stdin",
     "output_type": "stream",
     "text": [
      "input the number of the index 0\n"
     ]
    },
    {
     "name": "stdout",
     "output_type": "stream",
     "text": [
      "Adding 'p' at 8th index of an input string:\n",
      " psayansaha\n"
     ]
    }
   ],
   "source": [
    "\n",
    "inputString = \"sayansaha\"\n",
    "\n",
    "temp = int(input(\"input the number of the index\"))\n",
    "\n",
    "inputString = inputString[:temp] + 'p' + inputString[temp:]\n",
    "\n",
    "\n",
    "print(\"Adding 'p' at 8th index of an input string:\\n\", inputString)"
   ]
  },
  {
   "cell_type": "markdown",
   "id": "413c60f1-0e7d-424a-b196-8f1ae8a2725b",
   "metadata": {},
   "source": [
    "50. Convert a CSV string to a list of lists."
   ]
  },
  {
   "cell_type": "code",
   "execution_count": 3,
   "id": "4f32f114-685b-4081-adb9-7ecb043ea547",
   "metadata": {},
   "outputs": [
    {
     "data": {
      "text/plain": [
       "\"import csv \\n  \\nwith open('sample.csv', 'r') as read_obj: \\n\\n    csv_reader = csv.reader(read_obj) \\n  \\n    # convert string to list \\n    list_of_csv = list(csv_reader) \\n  \\n    print(list_of_csv) \""
      ]
     },
     "execution_count": 3,
     "metadata": {},
     "output_type": "execute_result"
    }
   ],
   "source": [
    "\"\"\"import csv \n",
    "  \n",
    "with open('sample.csv', 'r') as read_obj: \n",
    "\n",
    "    csv_reader = csv.reader(read_obj) \n",
    "  \n",
    "    # convert string to list \n",
    "    list_of_csv = list(csv_reader) \n",
    "  \n",
    "    print(list_of_csv) \"\"\""
   ]
  },
  {
   "cell_type": "markdown",
   "id": "c0e38785-a720-4de5-9b0b-5b8a8fb5482b",
   "metadata": {},
   "source": [
    "\n",
    "List Based Practice Problem :"
   ]
  },
  {
   "cell_type": "markdown",
   "id": "97dd5b30-6417-4364-9f34-29117cec392b",
   "metadata": {},
   "source": [
    "1. Create a list with integers from 1 to 10."
   ]
  },
  {
   "cell_type": "code",
   "execution_count": 18,
   "id": "f5093c66-de86-49d0-9d0e-39c91a63cf41",
   "metadata": {},
   "outputs": [
    {
     "name": "stdout",
     "output_type": "stream",
     "text": [
      "[1, 2, 3, 4, 5, 6, 7, 8, 9, 10]\n"
     ]
    }
   ],
   "source": [
    "integer_list = []\n",
    "\n",
    "for i in range(1,11):\n",
    "    integer_list.append(i)\n",
    "    \n",
    "print(integer_list)"
   ]
  },
  {
   "cell_type": "markdown",
   "id": "b41c46f0-e539-492c-9bef-efaddb67af5a",
   "metadata": {},
   "source": [
    "2. Find the length of a list without using the `len()` function."
   ]
  },
  {
   "cell_type": "code",
   "execution_count": 21,
   "id": "84133b47-0d70-4e39-8fd1-63a2eb39f60f",
   "metadata": {},
   "outputs": [
    {
     "name": "stdout",
     "output_type": "stream",
     "text": [
      "the length of the list is 5\n"
     ]
    }
   ],
   "source": [
    "list = [2, 4, 6, 8, 10]\n",
    "count = 0\n",
    "\n",
    "for i in list:\n",
    "    count = count + 1\n",
    "print(f\"the length of the list is {count}\")"
   ]
  },
  {
   "cell_type": "markdown",
   "id": "bb13a1e1-0a9a-4ab4-ac18-fa8eaec6d289",
   "metadata": {},
   "source": [
    "3. Append an element to the end of a list."
   ]
  },
  {
   "cell_type": "code",
   "execution_count": 22,
   "id": "64b7d9ae-e75a-416f-a111-343777f93e6d",
   "metadata": {},
   "outputs": [
    {
     "name": "stdout",
     "output_type": "stream",
     "text": [
      "[2, 4, 6, 8, 10]\n"
     ]
    }
   ],
   "source": [
    "list = [2, 4, 6, 8]\n",
    "val = 10\n",
    "\n",
    "list.append(val)\n",
    "\n",
    "print(list)"
   ]
  },
  {
   "cell_type": "markdown",
   "id": "6f4f9cfa-a4e8-47e4-b367-0d1605512918",
   "metadata": {},
   "source": [
    "4. Insert an element at a specific index in a list."
   ]
  },
  {
   "cell_type": "code",
   "execution_count": 24,
   "id": "16b85893-8f93-4005-92da-810061df9eb1",
   "metadata": {},
   "outputs": [
    {
     "name": "stdout",
     "output_type": "stream",
     "text": [
      "[2, 4, 10, 6, 8]\n"
     ]
    }
   ],
   "source": [
    "list = [2, 4, 6, 8]\n",
    "val = 10\n",
    "index = 2\n",
    "list.insert(index, val)\n",
    "print(list)\n"
   ]
  },
  {
   "cell_type": "markdown",
   "id": "b1a6edb9-8abb-4d16-9194-9ee3cc08cacd",
   "metadata": {},
   "source": [
    "5. Remove an element from a list by its value."
   ]
  },
  {
   "cell_type": "code",
   "execution_count": 31,
   "id": "af975c83-afe1-4696-bab1-b5a6f1e79403",
   "metadata": {},
   "outputs": [
    {
     "name": "stdin",
     "output_type": "stream",
     "text": [
      "enter the value to be removed 2\n"
     ]
    },
    {
     "name": "stdout",
     "output_type": "stream",
     "text": [
      "[4, 6, 8]\n"
     ]
    }
   ],
   "source": [
    "list = [2, 4, 6, 8]\n",
    "val = int(input(\"enter the value to be removed\"))\n",
    "list.remove(val)\n",
    "print(list)"
   ]
  },
  {
   "cell_type": "markdown",
   "id": "c403b04b-6780-484f-a209-bddcaca52481",
   "metadata": {},
   "source": [
    "6. Remove an element from a list by its index."
   ]
  },
  {
   "cell_type": "code",
   "execution_count": 34,
   "id": "62df55f8-5c49-4f46-b748-a58d19419315",
   "metadata": {},
   "outputs": [
    {
     "name": "stdout",
     "output_type": "stream",
     "text": [
      "[2, 6, 8]\n"
     ]
    }
   ],
   "source": [
    "list = [2, 4, 6, 8]\n",
    "val = 1\n",
    "list.pop(val)\n",
    "print(list)"
   ]
  },
  {
   "cell_type": "markdown",
   "id": "bd8aa4e0-250a-4df6-86e6-026c56b285fc",
   "metadata": {},
   "source": [
    "7. Check if an element exists in a list."
   ]
  },
  {
   "cell_type": "code",
   "execution_count": 41,
   "id": "a6878d47-4222-4a80-b016-67893b548ccd",
   "metadata": {},
   "outputs": [
    {
     "name": "stdout",
     "output_type": "stream",
     "text": [
      "the element 2 exists in the list\n"
     ]
    }
   ],
   "source": [
    "list = [2, 4, 6, 8]\n",
    "val = 2\n",
    "\n",
    "if val in list:\n",
    "    print(f\"the element {val} exists in the list\")\n",
    "else:\n",
    "    print(\"the element doesn't exist in the list\")"
   ]
  },
  {
   "cell_type": "markdown",
   "id": "914b8eec-78a8-4004-86bb-1b0dc95de723",
   "metadata": {},
   "source": [
    "8. Find the index of the first occurrence of an element in a list."
   ]
  },
  {
   "cell_type": "code",
   "execution_count": 43,
   "id": "776779db-6cc9-4f3b-b8d2-ade1587781bb",
   "metadata": {},
   "outputs": [
    {
     "name": "stdout",
     "output_type": "stream",
     "text": [
      "3\n"
     ]
    }
   ],
   "source": [
    "list = [2,4,6,8]\n",
    "\n",
    "print(list.index(8))"
   ]
  },
  {
   "cell_type": "markdown",
   "id": "68229223-10f8-4e20-a804-23db7a0fcafa",
   "metadata": {},
   "source": [
    "9. Count the occurrences of an element in a list."
   ]
  },
  {
   "cell_type": "code",
   "execution_count": 44,
   "id": "97795e32-757e-4027-8bfd-e6a517057622",
   "metadata": {},
   "outputs": [
    {
     "name": "stdout",
     "output_type": "stream",
     "text": [
      "3\n"
     ]
    }
   ],
   "source": [
    "list = [2,4,6,8,2,2]\n",
    "\n",
    "print(list.count(2))"
   ]
  },
  {
   "cell_type": "markdown",
   "id": "30a59cec-73ad-4e4e-9488-3c278187587d",
   "metadata": {},
   "source": [
    "10. Reverse the order of elements in a list."
   ]
  },
  {
   "cell_type": "code",
   "execution_count": 45,
   "id": "7e533f92-bb40-4ab0-b1ae-cf575852e66e",
   "metadata": {},
   "outputs": [
    {
     "name": "stdout",
     "output_type": "stream",
     "text": [
      "[2, 2, 8, 6, 4, 2]\n"
     ]
    }
   ],
   "source": [
    "list = [2,4,6,8,2,2]\n",
    "\n",
    "new_list = list[::-1]\n",
    "\n",
    "print(new_list)"
   ]
  },
  {
   "cell_type": "markdown",
   "id": "eae5e6f5-58ff-4b01-b54b-910783790966",
   "metadata": {},
   "source": [
    "11. Sort a list in ascending order."
   ]
  },
  {
   "cell_type": "code",
   "execution_count": 48,
   "id": "f7ea087a-3cca-431e-874d-319c4221c254",
   "metadata": {},
   "outputs": [
    {
     "name": "stdout",
     "output_type": "stream",
     "text": [
      "[1, 20, 65, 99]\n"
     ]
    }
   ],
   "source": [
    "list = [65,20,1,99]\n",
    "\n",
    "list.sort()\n",
    "\n",
    "print(list)"
   ]
  },
  {
   "cell_type": "markdown",
   "id": "70a6648c-f57a-497d-9f60-99ce03d1ad9b",
   "metadata": {},
   "source": [
    "12. Sort a list in descending order."
   ]
  },
  {
   "cell_type": "code",
   "execution_count": 49,
   "id": "ca6b485e-f513-4d00-abb8-5485f448e000",
   "metadata": {},
   "outputs": [
    {
     "name": "stdout",
     "output_type": "stream",
     "text": [
      "[99, 65, 20, 1]\n"
     ]
    }
   ],
   "source": [
    "list = [65,20,1,99]\n",
    "\n",
    "list.sort(reverse=True)\n",
    "\n",
    "print(list)"
   ]
  },
  {
   "cell_type": "markdown",
   "id": "572e1641-c09a-41af-bbc4-0d0a3e58c1bd",
   "metadata": {},
   "source": [
    "13. Create a list of even numbers from 1 to 20."
   ]
  },
  {
   "cell_type": "code",
   "execution_count": 3,
   "id": "ffbc4c0b-bd04-4d86-8756-7b4b56789a78",
   "metadata": {},
   "outputs": [
    {
     "name": "stdout",
     "output_type": "stream",
     "text": [
      "[2, 4, 6, 8, 10, 12, 14, 16, 18, 20]\n"
     ]
    }
   ],
   "source": [
    "\n",
    "\n",
    "new_list = [i for i in range(1,21) if i%2==0]\n",
    "\n",
    "print(new_list)"
   ]
  },
  {
   "cell_type": "markdown",
   "id": "f1df01be-0f8a-4e0f-a002-668bfdf997ad",
   "metadata": {},
   "source": [
    "14. Create a list of odd numbers from 1 to 20."
   ]
  },
  {
   "cell_type": "code",
   "execution_count": 55,
   "id": "eb69190a-8ec2-4668-8ab4-4d837be62f0f",
   "metadata": {},
   "outputs": [
    {
     "name": "stdout",
     "output_type": "stream",
     "text": [
      "[1, 3, 5, 7, 9, 11, 13, 15, 17, 19]\n"
     ]
    }
   ],
   "source": [
    "list = []\n",
    "\n",
    "new_list = [i for i in range(1,21) if not i%2==0]\n",
    "\n",
    "print(new_list)"
   ]
  },
  {
   "cell_type": "markdown",
   "id": "86248e1b-8a27-4346-a121-a3c7eef55f86",
   "metadata": {},
   "source": [
    "15. Find the sum of all elements in a list."
   ]
  },
  {
   "cell_type": "code",
   "execution_count": 60,
   "id": "ffb23ad9-24d8-4d81-9cdc-65a323a50316",
   "metadata": {},
   "outputs": [
    {
     "name": "stdout",
     "output_type": "stream",
     "text": [
      "21\n"
     ]
    }
   ],
   "source": [
    "list = [1,2,3,4,5,6]\n",
    "\n",
    "sum = 0\n",
    "\n",
    "for i in list:\n",
    "   sum = sum + i\n",
    "    \n",
    "print(sum)"
   ]
  },
  {
   "cell_type": "markdown",
   "id": "cc20f002-ecd9-404b-bb62-e1241be76b70",
   "metadata": {},
   "source": [
    "16. Find the maximum value in a list."
   ]
  },
  {
   "cell_type": "code",
   "execution_count": 70,
   "id": "fccf08ea-2c68-44f9-8e6b-80b46db586e2",
   "metadata": {},
   "outputs": [
    {
     "name": "stdout",
     "output_type": "stream",
     "text": [
      "600\n"
     ]
    }
   ],
   "source": [
    "list = [2,5,600,8,10,80]\n",
    "\n",
    "max_value = max(list)\n",
    "\n",
    "print(max_value)"
   ]
  },
  {
   "cell_type": "markdown",
   "id": "12534b4d-fdcb-4c8e-94a2-c15b95d42e93",
   "metadata": {},
   "source": [
    "17. Find the minimum value in a list."
   ]
  },
  {
   "cell_type": "code",
   "execution_count": 71,
   "id": "cb032e15-e4dc-4074-a0e8-e301aa139885",
   "metadata": {},
   "outputs": [
    {
     "name": "stdout",
     "output_type": "stream",
     "text": [
      "2\n"
     ]
    }
   ],
   "source": [
    "list = [2,5,600,8,10,80]\n",
    "\n",
    "min_value = min(list)\n",
    "\n",
    "print(min_value)"
   ]
  },
  {
   "cell_type": "markdown",
   "id": "22215b74-7a9d-4878-bdd2-e8eeaf3d30a7",
   "metadata": {},
   "source": [
    "18. Create a list of squares of numbers from 1 to 10."
   ]
  },
  {
   "cell_type": "code",
   "execution_count": 2,
   "id": "8764fc0c-4e83-4e13-b027-87988b7905dd",
   "metadata": {},
   "outputs": [
    {
     "name": "stdout",
     "output_type": "stream",
     "text": [
      "[1, 4, 9, 16, 25, 36, 49, 64, 81, 100]\n"
     ]
    }
   ],
   "source": [
    "\n",
    "\n",
    "new_list = [i*i for i in range(1,11)]\n",
    "\n",
    "print(new_list)"
   ]
  },
  {
   "cell_type": "markdown",
   "id": "460624c6-14f3-423d-9568-69d62ef32685",
   "metadata": {},
   "source": [
    "19. Create a list of random numbers."
   ]
  },
  {
   "cell_type": "code",
   "execution_count": 76,
   "id": "3ac2e533-35b3-4e2f-a298-c320e54b0beb",
   "metadata": {},
   "outputs": [
    {
     "name": "stdout",
     "output_type": "stream",
     "text": [
      "List of random integers: [43, 81, 43, 82, 9, 51, 74, 28, 75, 59]\n"
     ]
    }
   ],
   "source": [
    "import random\n",
    "\n",
    "random_integers = [random.randint(1, 100) for _ in range(10)]\n",
    "\n",
    "print(\"List of random integers:\", random_integers)"
   ]
  },
  {
   "cell_type": "markdown",
   "id": "843d592a-83a2-4e6f-9c90-1d71880ff705",
   "metadata": {},
   "source": [
    "20. Remove duplicates from a list."
   ]
  },
  {
   "cell_type": "code",
   "execution_count": 1,
   "id": "3c4e7e7e-e37e-492f-aafa-015e36dac45f",
   "metadata": {},
   "outputs": [
    {
     "name": "stdout",
     "output_type": "stream",
     "text": [
      "List without duplicates: [40, 10, 50, 20, 30]\n"
     ]
    }
   ],
   "source": [
    "my_list = [10, 20, 30, 20, 40, 10, 50, 30]\n",
    "\n",
    "\n",
    "unique_list = list(set(my_list))\n",
    "\n",
    "print(\"List without duplicates:\", unique_list)"
   ]
  },
  {
   "cell_type": "markdown",
   "id": "98ec7af4-629e-4c90-8229-7850019536df",
   "metadata": {},
   "source": [
    "21. Find the common elements between two lists."
   ]
  },
  {
   "cell_type": "code",
   "execution_count": 6,
   "id": "b9acfd2e-bd41-4e75-acbf-5ae91f6dd98a",
   "metadata": {},
   "outputs": [
    {
     "name": "stdout",
     "output_type": "stream",
     "text": [
      "[10]\n"
     ]
    }
   ],
   "source": [
    "my_list = [10, 20, 30]\n",
    "new_list = [10, 12, 13]\n",
    "\n",
    "common = [i for i in my_list if i in new_list]\n",
    "\n",
    "print(common)\n",
    "\n"
   ]
  },
  {
   "cell_type": "markdown",
   "id": "1a137c03-005f-4051-a18e-9ec398fe6929",
   "metadata": {},
   "source": [
    "22. Find the difference between two lists."
   ]
  },
  {
   "cell_type": "code",
   "execution_count": 10,
   "id": "bc4227d7-2238-4c1f-af0d-ba8301736e30",
   "metadata": {},
   "outputs": [
    {
     "name": "stdout",
     "output_type": "stream",
     "text": [
      "[20, 30, 5]\n"
     ]
    }
   ],
   "source": [
    "my_list = [10, 20, 30, 5]\n",
    "new_list = [10, 12, 13]\n",
    "\n",
    "uncommon = [i for i in my_list if not i in new_list]\n",
    "\n",
    "print(uncommon)"
   ]
  },
  {
   "cell_type": "markdown",
   "id": "6fc23995-fac7-4731-b1b3-788edaa64218",
   "metadata": {},
   "source": [
    "23. Merge two lists."
   ]
  },
  {
   "cell_type": "code",
   "execution_count": 11,
   "id": "104aee52-df02-4aff-8463-c54eefc41eda",
   "metadata": {},
   "outputs": [
    {
     "name": "stdout",
     "output_type": "stream",
     "text": [
      "[10, 20, 30, 5, 10, 12, 13]\n"
     ]
    }
   ],
   "source": [
    "my_list = [10, 20, 30, 5]\n",
    "new_list = [10, 12, 13]\n",
    "\n",
    "merge = my_list + new_list\n",
    "\n",
    "print(merge)"
   ]
  },
  {
   "cell_type": "markdown",
   "id": "38e38f3d-b546-4dba-92cf-17e9c9c77978",
   "metadata": {},
   "source": [
    "24. Multiply all elements in a list by 2."
   ]
  },
  {
   "cell_type": "code",
   "execution_count": 12,
   "id": "9d5409bd-c175-44e6-88c3-e71e10e420bc",
   "metadata": {},
   "outputs": [
    {
     "name": "stdout",
     "output_type": "stream",
     "text": [
      "[20, 40, 60, 10]\n"
     ]
    }
   ],
   "source": [
    "my_list = [10, 20, 30, 5]\n",
    "\n",
    "new_list = [i*2 for i in my_list]\n",
    "\n",
    "print(new_list)"
   ]
  },
  {
   "cell_type": "markdown",
   "id": "73d876f5-3166-4f5d-abbd-38e8b773c06b",
   "metadata": {},
   "source": [
    "25. Filter out all even numbers from a list."
   ]
  },
  {
   "cell_type": "code",
   "execution_count": 16,
   "id": "931b8bc0-6deb-4bba-b0a6-a7dac3d76f0b",
   "metadata": {},
   "outputs": [
    {
     "name": "stdout",
     "output_type": "stream",
     "text": [
      "[7, 5]\n"
     ]
    }
   ],
   "source": [
    "my_list = [7, 10, 20, 30, 5]\n",
    "\n",
    "new_list = [i for i in my_list if not i%2==0]\n",
    "\n",
    "print(new_list)"
   ]
  },
  {
   "cell_type": "markdown",
   "id": "7f7dfbdd-b10c-4b0b-9b06-b1231018a92a",
   "metadata": {},
   "source": [
    "26. Convert a list of strings to a list of integers."
   ]
  },
  {
   "cell_type": "code",
   "execution_count": 18,
   "id": "dbdcc794-8920-43ee-92a0-14308cef5576",
   "metadata": {},
   "outputs": [
    {
     "name": "stdout",
     "output_type": "stream",
     "text": [
      "[7, 10, 20, 30, 5]\n"
     ]
    }
   ],
   "source": [
    "my_list = [\"7\", \"10\", \"20\", \"30\", \"5\"]\n",
    "\n",
    "new_list = [int(i) for i in my_list]\n",
    "\n",
    "print(new_list)"
   ]
  },
  {
   "cell_type": "markdown",
   "id": "4f0ba52c-b4e6-43f8-98c7-570ce917058d",
   "metadata": {},
   "source": [
    "27. Convert a list of integers to a list of strings."
   ]
  },
  {
   "cell_type": "code",
   "execution_count": 3,
   "id": "0cac0b17-2199-4521-9326-0c40c1de9e03",
   "metadata": {},
   "outputs": [
    {
     "name": "stdout",
     "output_type": "stream",
     "text": [
      "['7', '10', '23', '24', '45']\n"
     ]
    }
   ],
   "source": [
    "my_list = [7,10,23,24,45]\n",
    "\n",
    "new_list = [str(i) for i in my_list]\n",
    "\n",
    "print(new_list)"
   ]
  },
  {
   "cell_type": "markdown",
   "id": "47a1cb44-b4d2-4ec0-b0ec-c43cf7121ec7",
   "metadata": {},
   "source": [
    "28. Flatten a nested list."
   ]
  },
  {
   "cell_type": "code",
   "execution_count": 4,
   "id": "8e66c276-2663-4a25-a59d-54d24144586b",
   "metadata": {},
   "outputs": [
    {
     "name": "stdout",
     "output_type": "stream",
     "text": [
      "[1, 2, 3, 4, 5, 6, 7]\n"
     ]
    }
   ],
   "source": [
    "my_list = [[1], [2, 3], [4, 5, 6, 7]]\n",
    "\n",
    "flat_list = []\n",
    "for i in my_list:\n",
    "    for num in i:\n",
    "        flat_list.append(num)\n",
    "\n",
    "print(flat_list)"
   ]
  },
  {
   "cell_type": "markdown",
   "id": "0544d611-ff83-4c84-980b-f7fa71606f39",
   "metadata": {},
   "source": [
    "29. Create a list of the first 10 Fibonacci numbers."
   ]
  },
  {
   "cell_type": "code",
   "execution_count": 6,
   "id": "2779d527-d553-4bf2-b627-d50586378157",
   "metadata": {},
   "outputs": [
    {
     "name": "stdout",
     "output_type": "stream",
     "text": [
      "First 7 Fibonacci numbers:\n",
      "[0, 1, 1, 2, 3, 5, 8, 13]\n"
     ]
    }
   ],
   "source": [
    "def fibonacci_nums(n):\n",
    "  if n <= 0:\n",
    "    return [0]\n",
    "  sequence = [0, 1]\n",
    "  while len(sequence) <= n:\n",
    "    next_value = sequence[len(sequence) - 1] + sequence[len(sequence) - 2]\n",
    "    sequence.append(next_value)\n",
    "  return sequence\n",
    "print(\"First 7 Fibonacci numbers:\")\n",
    "print(fibonacci_nums(7))"
   ]
  },
  {
   "cell_type": "markdown",
   "id": "fcb7b1d7-81a5-4e80-b4db-0c3edbbfeda8",
   "metadata": {},
   "source": [
    "30. Check if a list is sorted.\n",
    "\n"
   ]
  },
  {
   "cell_type": "code",
   "execution_count": 31,
   "id": "1b9ed874-0baa-451f-bcf7-cb314aab1a54",
   "metadata": {},
   "outputs": [
    {
     "name": "stdout",
     "output_type": "stream",
     "text": [
      "The list is sorted in ascending order.\n"
     ]
    }
   ],
   "source": [
    "\n",
    "def is_sorted_ascending(lst):\n",
    "    for i in range(1, len(lst)):\n",
    "        if lst[i] < lst[i - 1]:\n",
    "            return False\n",
    "    return True\n",
    "\n",
    "\n",
    "ascending_list = [10, 20, 30, 40, 50]\n",
    "\n",
    "\n",
    "if is_sorted_ascending(ascending_list) == True:\n",
    "    print(\"The list is sorted in ascending order.\")\n",
    "else:\n",
    "    print(\"The list is not sorted in ascending order.\")"
   ]
  },
  {
   "cell_type": "markdown",
   "id": "d41b57d4-a5da-406f-aba9-2407ca829354",
   "metadata": {},
   "source": [
    "31. Rotate a list to the left by `n` positions."
   ]
  },
  {
   "cell_type": "code",
   "execution_count": 36,
   "id": "d2a1999a-fbc7-4090-90e0-e1b0a2b2e8c4",
   "metadata": {},
   "outputs": [
    {
     "name": "stdin",
     "output_type": "stream",
     "text": [
      "enter the n value 3\n"
     ]
    },
    {
     "name": "stdout",
     "output_type": "stream",
     "text": [
      "[4, 5, 6, 1, 2, 3]\n"
     ]
    }
   ],
   "source": [
    "lst = [1,2,3,4,5,6]\n",
    "n = int(input(\"enter the n value\"))\n",
    "new_list = lst[n:] + lst[:n]\n",
    "print(new_list)"
   ]
  },
  {
   "cell_type": "markdown",
   "id": "6b902ab4-7fa2-4c89-917b-52a8b8e074b6",
   "metadata": {},
   "source": [
    "32. Rotate a list to the right by `n` positions."
   ]
  },
  {
   "cell_type": "code",
   "execution_count": 39,
   "id": "593838f5-a1ed-49de-b21a-044abbe8fccc",
   "metadata": {},
   "outputs": [
    {
     "name": "stdin",
     "output_type": "stream",
     "text": [
      "enter the n value 3\n"
     ]
    },
    {
     "name": "stdout",
     "output_type": "stream",
     "text": [
      "[4, 5, 6, 1, 2, 3]\n"
     ]
    }
   ],
   "source": [
    "lst = [1,2,3,4,5,6]\n",
    "n = int(input(\"enter the n value\"))\n",
    "new_list = lst[-n:] + lst[:-n]\n",
    "print(new_list)"
   ]
  },
  {
   "cell_type": "markdown",
   "id": "5c023ec8-93a0-4ccd-a31f-a6f94a60774e",
   "metadata": {},
   "source": [
    "33. Create a list of prime numbers up to 50."
   ]
  },
  {
   "cell_type": "code",
   "execution_count": 44,
   "id": "fb3539c0-a50c-431b-9d8d-93389ce21047",
   "metadata": {},
   "outputs": [
    {
     "name": "stdout",
     "output_type": "stream",
     "text": [
      "5 25\n",
      "5 29\n",
      "List of prime numbers up to 50: [2, 3, 5, 7, 11, 13, 17, 19, 23, 29]\n"
     ]
    }
   ],
   "source": [
    "\n",
    "def is_prime(num):\n",
    "    if num <= 1:\n",
    "        return False\n",
    "    if num <= 3:\n",
    "        return True\n",
    "    if num % 2 == 0 or num % 3 == 0:\n",
    "        return False\n",
    "    i = 5\n",
    "    while i * i <= num:\n",
    "      print(i,num)\n",
    "      if num % i == 0 or num % (i + 2) == 0:\n",
    "          return False\n",
    "      i += 6\n",
    "    return True\n",
    "\n",
    "\n",
    "prime_numbers = [num for num in range(2,30) if is_prime(num)]\n",
    "\n",
    "\n",
    "print(\"List of prime numbers up to 50:\", prime_numbers)"
   ]
  },
  {
   "cell_type": "markdown",
   "id": "0a35e50a-7019-414b-b9c1-e0d662b72bd8",
   "metadata": {},
   "source": [
    "34. Split a list into chunks of size `n`."
   ]
  },
  {
   "cell_type": "code",
   "execution_count": 1,
   "id": "3a081c32-148e-47e5-af5d-f5e47e7c76fe",
   "metadata": {},
   "outputs": [
    {
     "name": "stdout",
     "output_type": "stream",
     "text": [
      "[['i', 'am', 'great', 'morning', 'saha'], ['nerdy', 'saha', 'love', 'questions', 'words'], ['life']]\n"
     ]
    }
   ],
   "source": [
    "\n",
    "\n",
    "my_list = ['i', 'am', 'great', 'morning', \n",
    "           'saha','nerdy', 'saha', 'love', \n",
    "               'questions','words', 'life'] \n",
    "  \n",
    "\n",
    "def divide_chunks(l, n): \n",
    "      \n",
    "    # looping till length l \n",
    "    for i in range(0, len(l), n):  \n",
    "        yield l[i:i + n] \n",
    "  \n",
    "\n",
    "n = 5\n",
    "  \n",
    "x = list(divide_chunks(my_list, n)) \n",
    "print (x) "
   ]
  },
  {
   "cell_type": "markdown",
   "id": "9237de31-7ac1-41ed-b128-76299dbb87ec",
   "metadata": {},
   "source": [
    "35. Find the second largest number in a list."
   ]
  },
  {
   "cell_type": "code",
   "execution_count": 5,
   "id": "7931fcae-6222-49dc-8bba-9d31e6cac399",
   "metadata": {},
   "outputs": [
    {
     "name": "stdout",
     "output_type": "stream",
     "text": [
      "the 2nd largest number is 99\n"
     ]
    }
   ],
   "source": [
    "list = [432,65,20,1,99]\n",
    "\n",
    "list.sort()\n",
    "\n",
    "print(\"the 2nd largest number is\", list[-2] )"
   ]
  },
  {
   "cell_type": "markdown",
   "id": "95609fbb-9def-4224-915c-b1852b132443",
   "metadata": {},
   "source": [
    "36. Replace every element in a list with its square."
   ]
  },
  {
   "cell_type": "code",
   "execution_count": 7,
   "id": "6609dcdc-7fea-45ed-8129-28fed20540d4",
   "metadata": {},
   "outputs": [
    {
     "name": "stdout",
     "output_type": "stream",
     "text": [
      "[4, 25, 36, 49]\n"
     ]
    }
   ],
   "source": [
    "list = [2,5,6,7]\n",
    "\n",
    "list = [i*i for i in list]\n",
    "print(list)"
   ]
  },
  {
   "cell_type": "markdown",
   "id": "2b56f762-ebbe-46ca-84f2-9c4d0880b162",
   "metadata": {},
   "source": [
    "37. Convert a list to a dictionary where list elements become keys and their\n",
    "indices become values."
   ]
  },
  {
   "cell_type": "code",
   "execution_count": 8,
   "id": "d3919477-fbc4-4e0a-86bc-9265eb3e6e62",
   "metadata": {},
   "outputs": [
    {
     "name": "stdout",
     "output_type": "stream",
     "text": [
      "Converted dictionary: {'apple': 0, 'banana': 1, 'cherry': 2, 'date': 3, 'elderberry': 4}\n"
     ]
    }
   ],
   "source": [
    "\n",
    "my_list = ['apple', 'banana', 'cherry', 'date', 'elderberry']\n",
    "\n",
    "\n",
    "my_dict = {element: index for index, element in enumerate(my_list)}\n",
    "\n",
    "\n",
    "print(\"Converted dictionary:\", my_dict)"
   ]
  },
  {
   "cell_type": "markdown",
   "id": "44a46561-e12c-4b7a-9f1a-7f5bb4d17318",
   "metadata": {},
   "source": [
    "38. Shuffle the elements of a list randomly."
   ]
  },
  {
   "cell_type": "code",
   "execution_count": 9,
   "id": "98d082c1-abd8-4401-aaf3-208b85fbfe68",
   "metadata": {},
   "outputs": [
    {
     "name": "stdout",
     "output_type": "stream",
     "text": [
      "Shuffled list: [1, 6, 8, 4, 5, 10, 3, 2, 7, 9]\n"
     ]
    }
   ],
   "source": [
    "import random\n",
    "\n",
    "\n",
    "my_list = [1, 2, 3, 4, 5, 6, 7, 8, 9, 10]\n",
    "\n",
    "\n",
    "random.shuffle(my_list)\n",
    "\n",
    "\n",
    "print(\"Shuffled list:\", my_list)"
   ]
  },
  {
   "cell_type": "markdown",
   "id": "b785900c-73dd-41dc-8850-1455a4474ac7",
   "metadata": {},
   "source": [
    "39. Create a list of the first 10 factorial numbers."
   ]
  },
  {
   "cell_type": "code",
   "execution_count": 19,
   "id": "a7bd6d02-8870-420e-b982-e62448f3b602",
   "metadata": {},
   "outputs": [
    {
     "name": "stdout",
     "output_type": "stream",
     "text": [
      "[1, 1, 2, 6, 24, 120, 720, 5040, 40320, 362880]\n"
     ]
    }
   ],
   "source": [
    "def fact(n):\n",
    "    if n==0 or n==1:\n",
    "        return 1\n",
    "    else:\n",
    "        return n * fact(n-1)\n",
    "\n",
    "\n",
    "fact_list = [fact(i) for i in range(0,10)]\n",
    "\n",
    "\n",
    "print(fact_list)"
   ]
  },
  {
   "cell_type": "markdown",
   "id": "6a447638-da13-4382-8353-93733cd4bc8c",
   "metadata": {},
   "source": [
    "40. Check if two lists have at least one element in common."
   ]
  },
  {
   "cell_type": "code",
   "execution_count": 40,
   "id": "fc7de759-044e-4e3e-a840-8f21120326aa",
   "metadata": {},
   "outputs": [
    {
     "name": "stdout",
     "output_type": "stream",
     "text": [
      "common element has been found\n"
     ]
    }
   ],
   "source": [
    "\n",
    "def has_common_element(list1, list2):\n",
    "    for i in list1:\n",
    "        if i in list2:\n",
    "            return True\n",
    "    else:\n",
    "        return False\n",
    "              \n",
    "list1 = [2,3,5]\n",
    "list2 = [7,6,1, 2]\n",
    "\n",
    "if has_common_element(list1, list2):\n",
    "    print(\"common element has been found\")\n",
    "else:\n",
    "    print(\"no common element has been found\")"
   ]
  },
  {
   "cell_type": "markdown",
   "id": "331fe930-9199-44d3-8459-9c62dbef4fcb",
   "metadata": {},
   "source": [
    "41. Remove all elements from a list."
   ]
  },
  {
   "cell_type": "code",
   "execution_count": 41,
   "id": "730308f2-4018-4212-91da-9d2d86fe9d98",
   "metadata": {},
   "outputs": [
    {
     "name": "stdout",
     "output_type": "stream",
     "text": [
      "[]\n"
     ]
    }
   ],
   "source": [
    "list = [2,3,4]\n",
    "\n",
    "list.clear()\n",
    "\n",
    "print(list)"
   ]
  },
  {
   "cell_type": "markdown",
   "id": "fc290073-eddf-424f-87e2-711bb5032fbf",
   "metadata": {},
   "source": [
    "42. Replace negative numbers in a list with 0."
   ]
  },
  {
   "cell_type": "code",
   "execution_count": 46,
   "id": "eb5d8477-2c6d-4ba5-88d8-9dc5af326340",
   "metadata": {},
   "outputs": [
    {
     "name": "stdout",
     "output_type": "stream",
     "text": [
      "[0, 4, 5, 0]\n"
     ]
    }
   ],
   "source": [
    "list = [-1,4,5,-9]\n",
    "\n",
    "for i in range(len(list)):\n",
    "    if list[i] < 0:\n",
    "        list[i] = 0\n",
    "print(list)"
   ]
  },
  {
   "cell_type": "markdown",
   "id": "8a97e3f8-fa6c-4d75-b6d6-a77e13823b8e",
   "metadata": {},
   "source": [
    "43. Convert a string into a list of words."
   ]
  },
  {
   "cell_type": "code",
   "execution_count": 5,
   "id": "3c4850ed-1808-4834-9c39-a70832960da0",
   "metadata": {},
   "outputs": [
    {
     "name": "stdout",
     "output_type": "stream",
     "text": [
      "['hello', 'man', 'how', 'are', 'you']\n"
     ]
    }
   ],
   "source": [
    "str = \"hello man how are you\"\n",
    "lst = str.split(\" \")\n",
    "print(lst)"
   ]
  },
  {
   "cell_type": "markdown",
   "id": "0b160fe3-41cd-4258-869c-201121fcba57",
   "metadata": {},
   "source": [
    "44.Convert a list of words into a string."
   ]
  },
  {
   "cell_type": "code",
   "execution_count": 9,
   "id": "f04dc838-cd7f-449f-91a0-d5dfece290cf",
   "metadata": {},
   "outputs": [
    {
     "name": "stdout",
     "output_type": "stream",
     "text": [
      "hello man how are you\n"
     ]
    }
   ],
   "source": [
    "lst = ['hello', 'man', 'how', 'are', 'you']\n",
    "\n",
    "str = \" \".join(lst)\n",
    "\n",
    "print(str)"
   ]
  },
  {
   "cell_type": "markdown",
   "id": "15ff8f0a-5c3d-4573-a51e-984acdbfc1d4",
   "metadata": {},
   "source": [
    "45. Create a list of the first `n` powers of 2."
   ]
  },
  {
   "cell_type": "code",
   "execution_count": 11,
   "id": "3762084e-324e-4df3-9ba6-791672ccab08",
   "metadata": {},
   "outputs": [
    {
     "name": "stdout",
     "output_type": "stream",
     "text": [
      "[1, 2, 4, 8, 16, 32, 64, 128, 256, 512]\n"
     ]
    }
   ],
   "source": [
    "n = 10\n",
    "\n",
    "lst = [2**i for i in range(10)]\n",
    "print(lst)"
   ]
  },
  {
   "cell_type": "markdown",
   "id": "bbe79d23-ac61-4b7f-8fab-531453d8c956",
   "metadata": {},
   "source": [
    "46. Find the longest string in a list of strings."
   ]
  },
  {
   "cell_type": "code",
   "execution_count": 12,
   "id": "680e5ec7-d4a6-44d1-a459-95ece8f011e1",
   "metadata": {},
   "outputs": [
    {
     "name": "stdout",
     "output_type": "stream",
     "text": [
      "[3, 5, 9] is the longest string\n"
     ]
    }
   ],
   "source": [
    "lst1 = [2,4]\n",
    "lst2 = [3,5,9]\n",
    "\n",
    "if len(lst1)>len(lst2):\n",
    "    print(f\"{lst1} is the longest string\")\n",
    "else:\n",
    "    print(f\"{lst2} is the longest string\")"
   ]
  },
  {
   "cell_type": "markdown",
   "id": "9f8159f4-8910-4298-82da-895a08228b2b",
   "metadata": {},
   "source": [
    "47. Find the shortest string in a list of strings."
   ]
  },
  {
   "cell_type": "code",
   "execution_count": 13,
   "id": "b582cbb6-7af8-40db-b3d0-9ee17250c81c",
   "metadata": {},
   "outputs": [
    {
     "name": "stdout",
     "output_type": "stream",
     "text": [
      "[2, 4] is the shortest string\n"
     ]
    }
   ],
   "source": [
    "lst1 = [2,4]\n",
    "lst2 = [3,5,9]\n",
    "\n",
    "if len(lst1)<len(lst2):\n",
    "    print(f\"{lst1} is the shortest string\")\n",
    "else:\n",
    "    print(f\"{lst2} is the shortest string\")"
   ]
  },
  {
   "cell_type": "markdown",
   "id": "7ae0199c-2bec-4413-9e20-732831b3616d",
   "metadata": {},
   "source": [
    "48. Create a list of the first `n` triangular numbers."
   ]
  },
  {
   "cell_type": "code",
   "execution_count": 14,
   "id": "f7c14a26-be93-4052-894f-a95358054412",
   "metadata": {},
   "outputs": [
    {
     "name": "stdout",
     "output_type": "stream",
     "text": [
      "List of the first 5 triangular numbers: [1, 3, 6, 10, 15]\n"
     ]
    }
   ],
   "source": [
    "\n",
    "def triangular_numbers(n):\n",
    "    return [i * (i + 1) // 2 for i in range(1, n + 1)]\n",
    "\n",
    "\n",
    "n = 5\n",
    "\n",
    "\n",
    "triangular_list = triangular_numbers(n)\n",
    "\n",
    "\n",
    "print(\"List of the first\", n, \"triangular numbers:\", triangular_list)"
   ]
  },
  {
   "cell_type": "markdown",
   "id": "b2e45618-3e24-4eed-af7f-f7b7a9434c51",
   "metadata": {},
   "source": [
    "49. Check if a list contains another list as a subsequence."
   ]
  },
  {
   "cell_type": "code",
   "execution_count": 15,
   "id": "3c5b2bae-d1cc-48ae-8967-6d79827c8eef",
   "metadata": {},
   "outputs": [
    {
     "name": "stdout",
     "output_type": "stream",
     "text": [
      "Main list contains the subsequence.\n"
     ]
    }
   ],
   "source": [
    "\n",
    "def is_subsequence(subsequence, main_list):\n",
    "    subseq_index = 0  \n",
    "    for element in main_list:\n",
    "        if element == subsequence[subseq_index]:\n",
    "            subseq_index += 1\n",
    "            if subseq_index == len(subsequence):\n",
    "                return True\n",
    "    return False\n",
    "\n",
    "\n",
    "main_list = [1, 2, 3, 4, 5, 6, 7, 8, 9, 10]\n",
    "subsequence = [3, 5, 8]\n",
    "\n",
    "\n",
    "if is_subsequence(subsequence, main_list):\n",
    "    print(\"Main list contains the subsequence.\")\n",
    "else:\n",
    "    print(\"Main list does not contain the subsequence.\")"
   ]
  },
  {
   "cell_type": "markdown",
   "id": "832c0181-67b5-44d1-9e7e-eb4719f62e1e",
   "metadata": {},
   "source": [
    "50. Swap two elements in a list by their indices."
   ]
  },
  {
   "cell_type": "code",
   "execution_count": 16,
   "id": "8b782d50-3647-4295-b25c-3a2e9044bac3",
   "metadata": {},
   "outputs": [
    {
     "name": "stdout",
     "output_type": "stream",
     "text": [
      "List after swapping elements: [1, 4, 3, 2, 5]\n"
     ]
    }
   ],
   "source": [
    "\n",
    "my_list = [1, 2, 3, 4, 5]\n",
    "\n",
    "\n",
    "index1 = 1\n",
    "index2 = 3\n",
    "\n",
    "\n",
    "temp = my_list[index1]\n",
    "my_list[index1] = my_list[index2]\n",
    "my_list[index2] = temp\n",
    "\n",
    "\n",
    "print(\"List after swapping elements:\", my_list)"
   ]
  },
  {
   "cell_type": "markdown",
   "id": "b8bcdbd6-efd8-43e4-bccc-3ac286b03d3d",
   "metadata": {},
   "source": [
    "Tuple Based Practice Problem :"
   ]
  },
  {
   "cell_type": "markdown",
   "id": "7d8c5bba-4914-4be4-a6fc-7b0bf94acb44",
   "metadata": {},
   "source": [
    "1. Create a tuple with integers from 1 to 5."
   ]
  },
  {
   "cell_type": "code",
   "execution_count": 4,
   "id": "6627a6b3-5c97-4bcf-a9be-f828fe426341",
   "metadata": {},
   "outputs": [
    {
     "name": "stdout",
     "output_type": "stream",
     "text": [
      "(0, 1, 2, 3, 4, 5)\n"
     ]
    }
   ],
   "source": [
    "t = ()\n",
    "\n",
    "lst = list(t)\n",
    "\n",
    "for i in range(6):\n",
    "    lst.append(i)\n",
    "\n",
    "print (tuple(lst))"
   ]
  },
  {
   "cell_type": "markdown",
   "id": "cf029683-bad4-42f1-a0de-b9f54362e3ae",
   "metadata": {},
   "source": [
    "2. Access the third element of a tuple."
   ]
  },
  {
   "cell_type": "code",
   "execution_count": 5,
   "id": "0f0d8ff9-d193-44d4-a038-aff8a5e481ee",
   "metadata": {},
   "outputs": [
    {
     "name": "stdout",
     "output_type": "stream",
     "text": [
      "2\n"
     ]
    }
   ],
   "source": [
    "t = (0, 1, 2, 3, 4, 5)\n",
    "\n",
    "print(t[2])"
   ]
  },
  {
   "cell_type": "markdown",
   "id": "42fdfdc2-0df6-4609-bb40-ecd4127eed44",
   "metadata": {},
   "source": [
    "3. Find the length of a tuple without using the `len()` function."
   ]
  },
  {
   "cell_type": "code",
   "execution_count": 6,
   "id": "386f094f-1baf-4551-9656-ef07a2a3a236",
   "metadata": {},
   "outputs": [
    {
     "name": "stdout",
     "output_type": "stream",
     "text": [
      "6\n"
     ]
    }
   ],
   "source": [
    "t = (0, 1, 2, 3, 4, 5)\n",
    "\n",
    "count = 0\n",
    "\n",
    "for char in t:\n",
    "    count = count+1\n",
    "\n",
    "print(count)\n",
    "    "
   ]
  },
  {
   "cell_type": "markdown",
   "id": "fba37c4c-8de5-47df-a691-e70088f9354a",
   "metadata": {},
   "source": [
    "4. Count the occurrences of an element in a tuple."
   ]
  },
  {
   "cell_type": "code",
   "execution_count": 8,
   "id": "c46c0865-4078-431a-9150-9230c21655ab",
   "metadata": {},
   "outputs": [
    {
     "name": "stdout",
     "output_type": "stream",
     "text": [
      "2\n"
     ]
    }
   ],
   "source": [
    "t = (0, 1, 1, 3, 4, 5)\n",
    "\n",
    "count = 0\n",
    "\n",
    "element = 1\n",
    "\n",
    "for i in t:\n",
    "    if t[i]==1:\n",
    "        count=count+1\n",
    "    \n",
    "print(count)"
   ]
  },
  {
   "cell_type": "markdown",
   "id": "5d23df78-33c1-474a-bb0a-ec85e269602e",
   "metadata": {},
   "source": [
    "5. Find the index of the first occurrence of an element in a tuple."
   ]
  },
  {
   "cell_type": "code",
   "execution_count": 11,
   "id": "56bd784c-fc0b-4479-966b-ea368c97abe0",
   "metadata": {},
   "outputs": [
    {
     "name": "stdout",
     "output_type": "stream",
     "text": [
      "the first index of element is 3\n"
     ]
    }
   ],
   "source": [
    "t = (0, 1, 1, 3, 4, 5)\n",
    "\n",
    "element = 3\n",
    "\n",
    "for i in t:\n",
    "    if i == element:\n",
    "        print(\"the first index of element is\", t[i])\n",
    "        break\n"
   ]
  },
  {
   "cell_type": "markdown",
   "id": "82ecc5c8-a657-47ad-9fab-d202a64cbb7c",
   "metadata": {},
   "source": [
    "6. Check if an element exists in a tuple."
   ]
  },
  {
   "cell_type": "code",
   "execution_count": 33,
   "id": "a60cfb71-a76e-46dd-a0d2-8948e6c79675",
   "metadata": {},
   "outputs": [
    {
     "name": "stdout",
     "output_type": "stream",
     "text": [
      "the element 3 exists in tuple\n"
     ]
    }
   ],
   "source": [
    "t = (0, 1, 1, 3, 4, 5)\n",
    "\n",
    "element = 3\n",
    "\n",
    "if element in t:\n",
    "    print(f\"the element {element} exists in tuple\")\n",
    "else:\n",
    "          print(\"doesn't exist\")\n"
   ]
  },
  {
   "cell_type": "markdown",
   "id": "123ccb84-9493-4548-9304-1ffe428e6752",
   "metadata": {},
   "source": [
    "7. Convert a tuple to a list."
   ]
  },
  {
   "cell_type": "code",
   "execution_count": 34,
   "id": "abec5165-f0d5-40cb-8c24-f8e5fa76f66d",
   "metadata": {},
   "outputs": [
    {
     "name": "stdout",
     "output_type": "stream",
     "text": [
      "[0, 1, 1, 3, 4, 5]\n"
     ]
    }
   ],
   "source": [
    "t = (0, 1, 1, 3, 4, 5)\n",
    "\n",
    "lst = list(t)\n",
    "\n",
    "print(lst)"
   ]
  },
  {
   "cell_type": "markdown",
   "id": "849dc734-c403-483b-9d5f-0c1bc6375414",
   "metadata": {},
   "source": [
    "8. Convert a list to a tuple."
   ]
  },
  {
   "cell_type": "code",
   "execution_count": 35,
   "id": "47cd82e4-2d57-4e6e-a667-90c591f8e1c6",
   "metadata": {},
   "outputs": [
    {
     "name": "stdout",
     "output_type": "stream",
     "text": [
      "(0, 1, 1, 3, 4, 5)\n"
     ]
    }
   ],
   "source": [
    "lst = [0, 1, 1, 3, 4, 5]\n",
    "\n",
    "t = tuple(lst)\n",
    "\n",
    "print(t)"
   ]
  },
  {
   "cell_type": "markdown",
   "id": "17ce966e-8d44-4b6f-8cf4-0ad30c3c95a6",
   "metadata": {},
   "source": [
    "9. Unpack the elements of a tuple into variables."
   ]
  },
  {
   "cell_type": "code",
   "execution_count": 38,
   "id": "0c18e375-c883-430c-b91b-87df1009f6d8",
   "metadata": {},
   "outputs": [
    {
     "name": "stdout",
     "output_type": "stream",
     "text": [
      "var1: 10\n",
      "var2: 20\n",
      "var3: 30\n"
     ]
    }
   ],
   "source": [
    "\n",
    "my_tuple = (10, 20, 30)\n",
    "\n",
    "var1, var2, var3 = my_tuple\n",
    "\n",
    "print(\"var1:\", var1)\n",
    "print(\"var2:\", var2)\n",
    "print(\"var3:\", var3)"
   ]
  },
  {
   "cell_type": "markdown",
   "id": "f1944fd1-a729-432c-87b0-f0ef3140b9a5",
   "metadata": {},
   "source": [
    "10. Create a tuple of even numbers from 1 to 10."
   ]
  },
  {
   "cell_type": "code",
   "execution_count": 48,
   "id": "ee3db4f2-1a4f-4d4a-91c4-b752db00a1a5",
   "metadata": {},
   "outputs": [
    {
     "name": "stdout",
     "output_type": "stream",
     "text": [
      "(2, 4, 6, 8, 10)\n"
     ]
    }
   ],
   "source": [
    "lst = [i for i in range(1,11) if i % 2 == 0]\n",
    "\n",
    "print(tuple(lst))"
   ]
  },
  {
   "cell_type": "markdown",
   "id": "5301bf18-986c-49cb-afd4-dc1ef8e3a7e7",
   "metadata": {},
   "source": [
    "11. Create a tuple of odd numbers from 1 to 10."
   ]
  },
  {
   "cell_type": "code",
   "execution_count": 49,
   "id": "5b17727f-e1fe-4322-a1bd-32250bdb8379",
   "metadata": {},
   "outputs": [
    {
     "name": "stdout",
     "output_type": "stream",
     "text": [
      "(1, 3, 5, 7, 9)\n"
     ]
    }
   ],
   "source": [
    "lst = [i for i in range(1,11) if not i % 2 == 0]\n",
    "\n",
    "print(tuple(lst))"
   ]
  },
  {
   "cell_type": "markdown",
   "id": "3f330c3e-5c62-418a-939e-9431fe8e022d",
   "metadata": {},
   "source": [
    "12. Concatenate two tuples."
   ]
  },
  {
   "cell_type": "code",
   "execution_count": 50,
   "id": "5fd12b6f-9e26-4061-9e06-c97f54b6c74e",
   "metadata": {},
   "outputs": [
    {
     "name": "stdout",
     "output_type": "stream",
     "text": [
      "(1, 2, 3, 4)\n"
     ]
    }
   ],
   "source": [
    "t1 = (1,2)\n",
    "t2 = (3,4)\n",
    "\n",
    "t = t1+t2\n",
    "\n",
    "print(t)"
   ]
  },
  {
   "cell_type": "markdown",
   "id": "9d3838a4-403d-4b4e-92da-e6a5148ec708",
   "metadata": {},
   "source": [
    "13. Repeat a tuple three times."
   ]
  },
  {
   "cell_type": "code",
   "execution_count": 51,
   "id": "864e9dd7-9c05-422e-8207-12be47373702",
   "metadata": {},
   "outputs": [
    {
     "name": "stdout",
     "output_type": "stream",
     "text": [
      "(1, 2, 1, 2, 1, 2)\n"
     ]
    }
   ],
   "source": [
    "t = (1,2)\n",
    "\n",
    "print(t*3)"
   ]
  },
  {
   "cell_type": "markdown",
   "id": "40f2683c-4f8e-4b39-b790-8989c973315d",
   "metadata": {},
   "source": [
    "14. Check if a tuple is empty."
   ]
  },
  {
   "cell_type": "code",
   "execution_count": 57,
   "id": "4e497953-8649-4b63-9ae4-ca78ed373187",
   "metadata": {},
   "outputs": [
    {
     "name": "stdout",
     "output_type": "stream",
     "text": [
      "the tuple is empty\n"
     ]
    }
   ],
   "source": [
    "t = ()\n",
    "\n",
    "if len(t) == 0:\n",
    "    print(\"the tuple is empty\")\n",
    "else:\n",
    "    print(\"the tuple isn't empty\")"
   ]
  },
  {
   "cell_type": "markdown",
   "id": "fc1cc5a5-f1bd-4295-b079-2ecdbc30375b",
   "metadata": {},
   "source": [
    "15. Create a nested tuple."
   ]
  },
  {
   "cell_type": "code",
   "execution_count": 59,
   "id": "2deac8e7-f496-4f1b-bfa6-74d295bc6747",
   "metadata": {},
   "outputs": [
    {
     "name": "stdout",
     "output_type": "stream",
     "text": [
      "Nested tuple: ((1, 2, 3), ('a', 'b', 'c'), (True, False))\n"
     ]
    }
   ],
   "source": [
    "\n",
    "nested_tuple = ((1, 2, 3), ('a', 'b', 'c'), (True, False))\n",
    "\n",
    "print(\"Nested tuple:\", nested_tuple)"
   ]
  },
  {
   "cell_type": "markdown",
   "id": "a018c22b-9605-4319-86c7-ba58bb7f6fef",
   "metadata": {},
   "source": [
    "16. Access the first element of a nested tuple."
   ]
  },
  {
   "cell_type": "code",
   "execution_count": 69,
   "id": "eca7214d-5efe-4e03-852e-970bd1e89bfe",
   "metadata": {},
   "outputs": [
    {
     "name": "stdout",
     "output_type": "stream",
     "text": [
      "(1, 2, 3)\n"
     ]
    }
   ],
   "source": [
    "t = ((1, 2, 3), ('a', 'b', 'c'), (True, False))\n",
    "\n",
    "\n",
    "print(t[0])"
   ]
  },
  {
   "cell_type": "markdown",
   "id": "afa982ad-f7cc-4f1d-9f6b-6e571062e4d8",
   "metadata": {},
   "source": [
    "17. Create a tuple with a single element."
   ]
  },
  {
   "cell_type": "code",
   "execution_count": 74,
   "id": "d2cb91c8-637d-4784-abf1-77b2e876ca8e",
   "metadata": {},
   "outputs": [
    {
     "name": "stdout",
     "output_type": "stream",
     "text": [
      "(1,)\n"
     ]
    }
   ],
   "source": [
    "t = (1,)\n",
    "\n",
    "print(t)"
   ]
  },
  {
   "cell_type": "markdown",
   "id": "b1250ee9-e531-4903-b2cb-7bd57e36cd94",
   "metadata": {},
   "source": [
    "18. Compare two tuples."
   ]
  },
  {
   "cell_type": "code",
   "execution_count": 75,
   "id": "4a52d102-285f-4260-954b-63cb06b30537",
   "metadata": {},
   "outputs": [
    {
     "name": "stdout",
     "output_type": "stream",
     "text": [
      "tuple1 == tuple2: False\n",
      "tuple1 != tuple2: True\n",
      "tuple1 < tuple2: True\n",
      "tuple1 <= tuple2: True\n",
      "tuple1 > tuple2: False\n",
      "tuple1 >= tuple2: False\n"
     ]
    }
   ],
   "source": [
    "\n",
    "tuple1 = (1, 2, 3)\n",
    "tuple2 = (1, 2, 4)\n",
    "\n",
    "print(\"tuple1 == tuple2:\", tuple1 == tuple2)  \n",
    "print(\"tuple1 != tuple2:\", tuple1 != tuple2) \n",
    "print(\"tuple1 < tuple2:\", tuple1 < tuple2)   \n",
    "print(\"tuple1 <= tuple2:\", tuple1 <= tuple2)  \n",
    "print(\"tuple1 > tuple2:\", tuple1 > tuple2)    \n",
    "print(\"tuple1 >= tuple2:\", tuple1 >= tuple2)  "
   ]
  },
  {
   "cell_type": "markdown",
   "id": "98545da6-de2a-45ee-8bd5-c5e41af226e7",
   "metadata": {},
   "source": [
    "19. Delete a tuple."
   ]
  },
  {
   "cell_type": "code",
   "execution_count": 76,
   "id": "6ac70a19-e3c1-40e6-a639-a0fd229db8df",
   "metadata": {},
   "outputs": [
    {
     "ename": "NameError",
     "evalue": "name 't' is not defined",
     "output_type": "error",
     "traceback": [
      "\u001b[0;31m---------------------------------------------------------------------------\u001b[0m",
      "\u001b[0;31mNameError\u001b[0m                                 Traceback (most recent call last)",
      "Cell \u001b[0;32mIn[76], line 5\u001b[0m\n\u001b[1;32m      1\u001b[0m t \u001b[38;5;241m=\u001b[39m (\u001b[38;5;241m1\u001b[39m,\u001b[38;5;241m2\u001b[39m)\n\u001b[1;32m      3\u001b[0m \u001b[38;5;28;01mdel\u001b[39;00m t\n\u001b[0;32m----> 5\u001b[0m \u001b[38;5;28mprint\u001b[39m(\u001b[43mt\u001b[49m)\n",
      "\u001b[0;31mNameError\u001b[0m: name 't' is not defined"
     ]
    }
   ],
   "source": [
    "t = (1,2)\n",
    "\n",
    "del t\n",
    "\n",
    "print(t)"
   ]
  },
  {
   "cell_type": "markdown",
   "id": "e8a37aa2-33b7-444e-95ce-f2e3d89f5f3a",
   "metadata": {},
   "source": [
    "20. Slice a tuple."
   ]
  },
  {
   "cell_type": "code",
   "execution_count": 77,
   "id": "44c3d376-385e-4adb-90e3-1a971eab885d",
   "metadata": {},
   "outputs": [
    {
     "name": "stdout",
     "output_type": "stream",
     "text": [
      "(3, 5, 1)\n"
     ]
    }
   ],
   "source": [
    "t = (3,5,1,7,9,11)\n",
    "\n",
    "print(t[0:3])"
   ]
  },
  {
   "cell_type": "markdown",
   "id": "5a9a6dc4-f623-45ec-b441-8667e55e8eea",
   "metadata": {},
   "source": [
    "21. Find the maximum value in a tuple."
   ]
  },
  {
   "cell_type": "code",
   "execution_count": 2,
   "id": "942353bc-3e58-4b2b-b9f9-a85f6c68e6bd",
   "metadata": {},
   "outputs": [
    {
     "name": "stdout",
     "output_type": "stream",
     "text": [
      "11\n"
     ]
    }
   ],
   "source": [
    "t = (3,5,1,7,9,11)\n",
    "\n",
    "m = max(t)\n",
    "\n",
    "print(m)"
   ]
  },
  {
   "cell_type": "markdown",
   "id": "491954e1-fa37-4086-a81a-5e96516aca46",
   "metadata": {},
   "source": [
    "22. Find the minimum value in a tuple."
   ]
  },
  {
   "cell_type": "code",
   "execution_count": 3,
   "id": "6a8431b4-9381-408e-9a71-4d9a55308f3c",
   "metadata": {},
   "outputs": [
    {
     "name": "stdout",
     "output_type": "stream",
     "text": [
      "1\n"
     ]
    }
   ],
   "source": [
    "t = (3,5,1,7,9,11)\n",
    "\n",
    "m = min(t)\n",
    "\n",
    "print(m)"
   ]
  },
  {
   "cell_type": "markdown",
   "id": "8e21d1fa-a0ed-4a17-afbc-5cad75b1cb1c",
   "metadata": {},
   "source": [
    "23. Convert a string to a tuple of characters."
   ]
  },
  {
   "cell_type": "code",
   "execution_count": 5,
   "id": "aa13db13-2747-4c99-8c78-afec489af9f0",
   "metadata": {},
   "outputs": [
    {
     "name": "stdout",
     "output_type": "stream",
     "text": [
      "('h', 'e', 'l', 'l', 'o')\n"
     ]
    }
   ],
   "source": [
    "str = (\"hello\")\n",
    "\n",
    "t = tuple(str)\n",
    "\n",
    "print(t)"
   ]
  },
  {
   "cell_type": "markdown",
   "id": "a067013f-3cb1-402c-82c0-3512493f6cc4",
   "metadata": {},
   "source": [
    "24. Convert a tuple of characters to a string."
   ]
  },
  {
   "cell_type": "code",
   "execution_count": 9,
   "id": "89e82ca6-85a4-48fe-a8ca-27b9207eac09",
   "metadata": {},
   "outputs": [
    {
     "name": "stdout",
     "output_type": "stream",
     "text": [
      "hello\n"
     ]
    }
   ],
   "source": [
    "t = ('h', 'e', 'l', 'l', 'o')\n",
    "\n",
    "string = \"\".join(t)\n",
    "\n",
    "print(string)"
   ]
  },
  {
   "cell_type": "markdown",
   "id": "cb55af63-65a8-417c-9fc5-7d6a26cbb3ef",
   "metadata": {},
   "source": [
    "25. Create a tuple from multiple data types."
   ]
  },
  {
   "cell_type": "code",
   "execution_count": 10,
   "id": "10c842bd-c7d7-4a84-9488-ee7f2cda40d9",
   "metadata": {},
   "outputs": [
    {
     "name": "stdout",
     "output_type": "stream",
     "text": [
      "(1, 'hello', 3.14, True)\n"
     ]
    }
   ],
   "source": [
    "mixed_tuple = (1, \"hello\", 3.14, True)\n",
    "\n",
    "print(mixed_tuple)"
   ]
  },
  {
   "cell_type": "markdown",
   "id": "23beb9d1-1f33-495b-8a08-327418d31644",
   "metadata": {},
   "source": [
    "26. Check if two tuples are identical."
   ]
  },
  {
   "cell_type": "code",
   "execution_count": 14,
   "id": "3f5517ff-24cf-423b-b500-d1aff82f759c",
   "metadata": {},
   "outputs": [
    {
     "name": "stdout",
     "output_type": "stream",
     "text": [
      "tuples are identical\n"
     ]
    }
   ],
   "source": [
    "t1 = (1,2)\n",
    "\n",
    "t2 = (1,2)\n",
    "\n",
    "if t1==t2:\n",
    "    print(\"tuples are identical\")\n",
    "else:\n",
    "    print(\"tuples are not identical\")"
   ]
  },
  {
   "cell_type": "markdown",
   "id": "143a300b-6e73-49f7-ae07-7a6cf0f4e37b",
   "metadata": {},
   "source": [
    "27. Sort the elements of a tuple."
   ]
  },
  {
   "cell_type": "code",
   "execution_count": 17,
   "id": "49ffe12b-a227-45cd-9e0f-e305e3286d1c",
   "metadata": {},
   "outputs": [
    {
     "name": "stdout",
     "output_type": "stream",
     "text": [
      "(1, 2, 3, 5, 9)\n"
     ]
    }
   ],
   "source": [
    "t = [1,5,2,9,3]\n",
    "\n",
    "lst = list(t)\n",
    "\n",
    "lst.sort()\n",
    "\n",
    "print(tuple(lst))"
   ]
  },
  {
   "cell_type": "markdown",
   "id": "0f84c1f6-6b69-48df-a46d-0566977cfe91",
   "metadata": {},
   "source": [
    "28. Convert a tuple of integers to a tuple of strings."
   ]
  },
  {
   "cell_type": "code",
   "execution_count": 3,
   "id": "78811462-ca88-42a7-8016-36f500f56eef",
   "metadata": {},
   "outputs": [
    {
     "name": "stdout",
     "output_type": "stream",
     "text": [
      "Tuple of strings: ('1', '2', '3', '4', '5')\n"
     ]
    }
   ],
   "source": [
    "\n",
    "tuple_of_integers = (1, 2, 3, 4, 5)\n",
    "\n",
    "tuple_of_strings = tuple(str(item) for item in tuple_of_integers)\n",
    "\n",
    "print(\"Tuple of strings:\", tuple_of_strings)"
   ]
  },
  {
   "cell_type": "markdown",
   "id": "25815851-8a4f-4b7c-be8e-b68193b4fbfc",
   "metadata": {},
   "source": [
    "29. Convert a tuple of strings to a tuple of integers."
   ]
  },
  {
   "cell_type": "code",
   "execution_count": 5,
   "id": "eaa1c7fd-c5d7-4999-b69a-609f67e6db51",
   "metadata": {},
   "outputs": [
    {
     "name": "stdout",
     "output_type": "stream",
     "text": [
      "Tuple of strings: (1, 2, 3, 4, 5)\n"
     ]
    }
   ],
   "source": [
    "tuple_of_string = ('1', '2', '3', '4', '5')\n",
    "\n",
    "tuple_of_int = tuple(int(item) for item in tuple_of_string)\n",
    "\n",
    "print(\"Tuple of strings:\", tuple_of_int)"
   ]
  },
  {
   "cell_type": "markdown",
   "id": "8358caa6-f042-4b1d-b447-182921c085ad",
   "metadata": {},
   "source": [
    "30. Merge two tuples."
   ]
  },
  {
   "cell_type": "code",
   "execution_count": 6,
   "id": "93e03f05-f162-4f1b-a43e-5eb631357f3c",
   "metadata": {},
   "outputs": [
    {
     "name": "stdout",
     "output_type": "stream",
     "text": [
      "Merged tuple: (1, 2, 3, 4, 5, 6)\n"
     ]
    }
   ],
   "source": [
    "\n",
    "tuple1 = (1, 2, 3)\n",
    "tuple2 = (4, 5, 6)\n",
    "\n",
    "\n",
    "merged_tuple = tuple1 + tuple2\n",
    "\n",
    "\n",
    "print(\"Merged tuple:\", merged_tuple)"
   ]
  },
  {
   "cell_type": "markdown",
   "id": "e43fe5d8-6920-4191-8760-962c0d286545",
   "metadata": {},
   "source": [
    "31. Flatten a nested tuple."
   ]
  },
  {
   "cell_type": "code",
   "execution_count": 1,
   "id": "e5ce6a4c-567e-4d12-9357-8af50fc24f9b",
   "metadata": {},
   "outputs": [
    {
     "name": "stdout",
     "output_type": "stream",
     "text": [
      "Flattened tuple: (1, 2, 3, 4, 5, 6, 7, 8)\n"
     ]
    }
   ],
   "source": [
    "\n",
    "def flatten_tuple(nested_tuple):\n",
    "    flattened = []\n",
    "    for item in nested_tuple:\n",
    "        if isinstance(item, tuple):\n",
    "            flattened.extend(flatten_tuple(item))\n",
    "        else:\n",
    "            flattened.append(item)\n",
    "    return flattened\n",
    "\n",
    "\n",
    "nested_tuple = ((1, 2), (3, 4, 5), (6, (7, 8)))\n",
    "\n",
    "\n",
    "flattened_tuple = tuple(flatten_tuple(nested_tuple))\n",
    "\n",
    "\n",
    "print(\"Flattened tuple:\", flattened_tuple)"
   ]
  },
  {
   "cell_type": "markdown",
   "id": "fac5453f-7a6d-4b8d-a5e9-020b4fc30b31",
   "metadata": {},
   "source": [
    "32. Create a tuple of the first 5 prime numbers."
   ]
  },
  {
   "cell_type": "code",
   "execution_count": 7,
   "id": "9c7060b6-8aec-4402-8063-2a52d6cc5e7d",
   "metadata": {},
   "outputs": [
    {
     "name": "stdout",
     "output_type": "stream",
     "text": [
      "Tuple of the first 5 prime numbers: (2, 3, 5, 7, 11)\n"
     ]
    }
   ],
   "source": [
    "def is_prime(num):\n",
    "    if num <= 1:\n",
    "        return False\n",
    "    for i in range(2, int(num ** 0.5) + 1):\n",
    "        if num % i == 0:\n",
    "            return False\n",
    "    return True\n",
    "\n",
    "\n",
    "prime_numbers_list = [num for num in range(2, 100) if is_prime(num)][:5]\n",
    "\n",
    "\n",
    "prime_numbers_tuple = tuple(prime_numbers_list)\n",
    "\n",
    "\n",
    "print(\"Tuple of the first 5 prime numbers:\", prime_numbers_tuple)"
   ]
  },
  {
   "cell_type": "markdown",
   "id": "fdf97d0a-23a8-423b-9b25-dcede493701e",
   "metadata": {},
   "source": [
    "33. Check if a tuple is a palindrome."
   ]
  },
  {
   "cell_type": "code",
   "execution_count": 10,
   "id": "a8ce7311-1a45-4ec5-aec5-426827e1db1b",
   "metadata": {},
   "outputs": [
    {
     "name": "stdout",
     "output_type": "stream",
     "text": [
      "the tuple is palindrone\n"
     ]
    }
   ],
   "source": [
    "t = (1,1,1)\n",
    "\n",
    "if t == t[::-1]:\n",
    "    print(\"the tuple is palindrone\")\n",
    "else:\n",
    "    print(\"not palindrone\")"
   ]
  },
  {
   "cell_type": "markdown",
   "id": "74f00548-0b7f-47ab-a116-272405a59328",
   "metadata": {},
   "source": [
    "34. Create a tuple of squares of numbers from 1 to 5."
   ]
  },
  {
   "cell_type": "code",
   "execution_count": 2,
   "id": "2e862600-3f6d-4843-9b11-832fb3454982",
   "metadata": {},
   "outputs": [
    {
     "name": "stdout",
     "output_type": "stream",
     "text": [
      "(1, 4, 9, 16, 25)\n"
     ]
    }
   ],
   "source": [
    "lst = [i*i for i in range(1,6)]\n",
    "\n",
    "print(tuple(lst))"
   ]
  },
  {
   "cell_type": "markdown",
   "id": "bb2653cc-5bf8-4c52-bf53-08fb6bd02b52",
   "metadata": {},
   "source": [
    "35. Filter out all even numbers from a tuple."
   ]
  },
  {
   "cell_type": "code",
   "execution_count": 4,
   "id": "8735585b-78c1-4197-92da-da316c5c602a",
   "metadata": {},
   "outputs": [
    {
     "name": "stdout",
     "output_type": "stream",
     "text": [
      "(1, 3, 5, 7)\n"
     ]
    }
   ],
   "source": [
    "t = (1,3,5,7,12,14,18)\n",
    "\n",
    "lst = list(t)\n",
    "\n",
    "new_lst = [i for i in lst if i%2!=0]\n",
    "\n",
    "print(tuple(new_lst))"
   ]
  },
  {
   "cell_type": "markdown",
   "id": "f3efd297-f158-4127-a037-43fdac25fd4a",
   "metadata": {},
   "source": [
    "36. Multiply all elements in a tuple by 2."
   ]
  },
  {
   "cell_type": "code",
   "execution_count": 5,
   "id": "cf263215-8a8c-4392-ad92-770eb5a6af81",
   "metadata": {},
   "outputs": [
    {
     "name": "stdout",
     "output_type": "stream",
     "text": [
      "(2, 6, 10, 14, 24, 28, 36)\n"
     ]
    }
   ],
   "source": [
    "t = (1,3,5,7,12,14,18)\n",
    "\n",
    "print(tuple([i*2 for i in t]))"
   ]
  },
  {
   "cell_type": "markdown",
   "id": "be8bd93a-2dd1-44ed-b214-241423088a21",
   "metadata": {},
   "source": [
    "37. Create a tuple of random numbers."
   ]
  },
  {
   "cell_type": "code",
   "execution_count": 7,
   "id": "53731a71-281f-4d32-86ea-ccfe3e6f3d72",
   "metadata": {},
   "outputs": [
    {
     "name": "stdout",
     "output_type": "stream",
     "text": [
      "Random tuple: (89, 90, 47, 90, 18, 57, 61, 44, 64, 17)\n"
     ]
    }
   ],
   "source": [
    "import random\n",
    "\n",
    "\n",
    "random_tuple = tuple(random.randint(1, 100) for _ in range(10))  \n",
    "\n",
    "print(\"Random tuple:\", random_tuple)"
   ]
  },
  {
   "cell_type": "markdown",
   "id": "e392c0b1-1878-48fc-91c8-204fcdbb2878",
   "metadata": {},
   "source": [
    "38. Check if a tuple is sorted."
   ]
  },
  {
   "cell_type": "code",
   "execution_count": 8,
   "id": "3ef5e876-95dc-45f1-a35f-6ce1f7d263d0",
   "metadata": {},
   "outputs": [
    {
     "name": "stdout",
     "output_type": "stream",
     "text": [
      "sorted_tuple is sorted: True\n",
      "unsorted_tuple is sorted: False\n"
     ]
    }
   ],
   "source": [
    "\n",
    "def is_sorted(tup):\n",
    "    for i in range(len(tup) - 1):\n",
    "        if tup[i] > tup[i + 1]:\n",
    "            return False\n",
    "    return True\n",
    "\n",
    "\n",
    "sorted_tuple = (1, 2, 3, 4, 5)\n",
    "unsorted_tuple = (5, 3, 1, 4, 2)\n",
    "\n",
    "\n",
    "is_sorted1 = is_sorted(sorted_tuple)\n",
    "is_sorted2 = is_sorted(unsorted_tuple)\n",
    "\n",
    "\n",
    "print(\"sorted_tuple is sorted:\", is_sorted1)\n",
    "print(\"unsorted_tuple is sorted:\", is_sorted2)"
   ]
  },
  {
   "cell_type": "markdown",
   "id": "b46b94f1-34a1-4990-a904-16918925869e",
   "metadata": {},
   "source": [
    "39. Rotate a tuple to the left by `n` positions."
   ]
  },
  {
   "cell_type": "code",
   "execution_count": 15,
   "id": "e6c5e480-f7e0-42cf-ab77-87895fc97f08",
   "metadata": {},
   "outputs": [
    {
     "name": "stdout",
     "output_type": "stream",
     "text": [
      "(4, 5, 6, 1, 2, 3)\n"
     ]
    }
   ],
   "source": [
    "tuple = (1, 2, 3, 4, 5, 6)\n",
    "\n",
    "n = 3\n",
    "\n",
    "new_tuple = tuple[n:] + tuple[0:n]\n",
    "\n",
    "print(new_tuple)"
   ]
  },
  {
   "cell_type": "markdown",
   "id": "481162c1-e267-43aa-85bd-c55630e711fe",
   "metadata": {},
   "source": [
    "40. Rotate a tuple to the right by `n` positions."
   ]
  },
  {
   "cell_type": "code",
   "execution_count": 14,
   "id": "27a86f2d-6646-4209-8646-9754aa10c9cc",
   "metadata": {},
   "outputs": [
    {
     "name": "stdout",
     "output_type": "stream",
     "text": [
      "(4, 5, 6, 1, 2, 3)\n"
     ]
    }
   ],
   "source": [
    "tuple = (1, 2, 3, 4, 5, 6)\n",
    "\n",
    "n = 3\n",
    "\n",
    "new_tuple = tuple[-n:] + tuple[:-n]\n",
    "\n",
    "print(new_tuple)"
   ]
  },
  {
   "cell_type": "markdown",
   "id": "16bb5c74-ccb3-4989-a21f-996aaf60f51e",
   "metadata": {},
   "source": [
    "41. Create a tuple of the first 5 Fibonacci numbers."
   ]
  },
  {
   "cell_type": "code",
   "execution_count": 1,
   "id": "2ea90d08-0d7c-4716-a791-fb797dd9cc49",
   "metadata": {},
   "outputs": [
    {
     "name": "stdout",
     "output_type": "stream",
     "text": [
      "(0, 1, 1, 2, 3)\n"
     ]
    }
   ],
   "source": [
    "\n",
    "def generate_fibonacci(n):\n",
    "    fibonacci = [0, 1]  \n",
    "    while len(fibonacci) < n:  \n",
    "        next_number = fibonacci[-1] + fibonacci[-2]  \n",
    "        fibonacci.append(next_number) \n",
    "    return tuple(fibonacci) \n",
    "\n",
    "\n",
    "fibonacci_tuple = generate_fibonacci(5)\n",
    "\n",
    "\n",
    "print(fibonacci_tuple)"
   ]
  },
  {
   "cell_type": "markdown",
   "id": "fdd5f51d-5f22-4db9-aad9-8036cac57d93",
   "metadata": {},
   "source": [
    "42. Create a tuple from user input."
   ]
  },
  {
   "cell_type": "code",
   "execution_count": 4,
   "id": "19ac1228-1ca2-4a7b-aedd-bc94736489c2",
   "metadata": {},
   "outputs": [
    {
     "name": "stdin",
     "output_type": "stream",
     "text": [
      "Enter elements separated by commas:  2,3,4\n"
     ]
    },
    {
     "name": "stdout",
     "output_type": "stream",
     "text": [
      "('2', '3', '4')\n"
     ]
    }
   ],
   "source": [
    "str = input(\"Enter elements separated by commas: \")\n",
    "\n",
    "n = str.split(\",\")\n",
    "\n",
    "print(tuple(n))"
   ]
  },
  {
   "cell_type": "markdown",
   "id": "5824f544-ed81-46f7-8f9a-c5418165d243",
   "metadata": {},
   "source": [
    "43. Swap two elements in a tuple."
   ]
  },
  {
   "cell_type": "code",
   "execution_count": 5,
   "id": "64271137-a470-4132-8ebc-25509104348e",
   "metadata": {},
   "outputs": [
    {
     "name": "stdout",
     "output_type": "stream",
     "text": [
      "[1, 5, 3, 7, 9]\n"
     ]
    }
   ],
   "source": [
    "t = [1,3,5,7,9]\n",
    "\n",
    "index1= 1\n",
    "\n",
    "index2 = 2\n",
    "\n",
    "temp = t[1]\n",
    "\n",
    "t[1] = t[2]\n",
    "t[2] = temp\n",
    "\n",
    "print(t)"
   ]
  },
  {
   "cell_type": "markdown",
   "id": "40224efd-e2a1-4720-9df3-6c1740d15776",
   "metadata": {},
   "source": [
    "44. Reverse the elements of a tuple."
   ]
  },
  {
   "cell_type": "code",
   "execution_count": 7,
   "id": "08834a59-f5ce-41c0-b4dd-09bb733c2d26",
   "metadata": {},
   "outputs": [
    {
     "name": "stdout",
     "output_type": "stream",
     "text": [
      "(9, 7, 5, 3, 1)\n"
     ]
    }
   ],
   "source": [
    "t = (1,3,5,7,9)\n",
    "\n",
    "print(t[::-1])"
   ]
  },
  {
   "cell_type": "markdown",
   "id": "d2789785-3ddd-4e72-9421-0a327a529ff5",
   "metadata": {},
   "source": [
    "45. Create a tuple of the first `n` powers of 2."
   ]
  },
  {
   "cell_type": "code",
   "execution_count": 8,
   "id": "9598a40a-7c06-466b-934b-21efd5a2363f",
   "metadata": {},
   "outputs": [
    {
     "name": "stdout",
     "output_type": "stream",
     "text": [
      "Tuple of the first 5 powers of 2: (1, 2, 4, 8, 16)\n"
     ]
    }
   ],
   "source": [
    "n = 5\n",
    "\n",
    "\n",
    "powers_of_2_tuple = tuple(2 ** i for i in range(n))\n",
    "\n",
    "\n",
    "print(\"Tuple of the first\", n, \"powers of 2:\", powers_of_2_tuple)"
   ]
  },
  {
   "cell_type": "markdown",
   "id": "d3dfe9ab-6d62-4464-b4dd-616db188bfac",
   "metadata": {},
   "source": [
    "46. Find the longest string in a tuple of strings."
   ]
  },
  {
   "cell_type": "code",
   "execution_count": 7,
   "id": "fd7b9853-c8da-463f-bf64-ee16c3351915",
   "metadata": {},
   "outputs": [
    {
     "name": "stdout",
     "output_type": "stream",
     "text": [
      "Longest string: watermelon\n"
     ]
    }
   ],
   "source": [
    "\n",
    "string_tuple = (\"apple\", \"banana\", \"grape\", \"kiwi\", \"watermelon\")\n",
    "\n",
    "\n",
    "longest_string = max(string_tuple, key=len)\n",
    "\n",
    "\n",
    "print(\"Longest string:\", longest_string)"
   ]
  },
  {
   "cell_type": "markdown",
   "id": "ec41ad64-1c99-4f97-ae2a-faace4e47c3c",
   "metadata": {},
   "source": [
    "47. Find the shortest string in a tuple of strings."
   ]
  },
  {
   "cell_type": "code",
   "execution_count": 8,
   "id": "bfa188dd-fa60-4209-a406-103b974ab3f4",
   "metadata": {},
   "outputs": [
    {
     "name": "stdout",
     "output_type": "stream",
     "text": [
      "Longest string: am\n"
     ]
    }
   ],
   "source": [
    "\n",
    "string_tuple = (\"am\", \"apple\", \"banana\", \"grape\", \"kiwi\", \"watermelon\")\n",
    "\n",
    "\n",
    "small_string = min(string_tuple, key=len)\n",
    "\n",
    "\n",
    "print(\"Longest string:\", small_string)"
   ]
  },
  {
   "cell_type": "markdown",
   "id": "3d903f88-992b-4986-94eb-e092f51c72bd",
   "metadata": {},
   "source": [
    "48. Create a tuple of the first `n` triangular numbers."
   ]
  },
  {
   "cell_type": "code",
   "execution_count": 9,
   "id": "941e7833-0e9f-45dc-9742-934dc166759b",
   "metadata": {},
   "outputs": [
    {
     "name": "stdout",
     "output_type": "stream",
     "text": [
      "Tuple of the first 5 triangular numbers: (1, 3, 6, 10, 15)\n"
     ]
    }
   ],
   "source": [
    "\n",
    "n = 5\n",
    "\n",
    "\n",
    "triangular_numbers_tuple = tuple((i * (i + 1)) // 2 for i in range(1, n + 1))\n",
    "\n",
    "\n",
    "print(\"Tuple of the first\", n, \"triangular numbers:\", triangular_numbers_tuple)"
   ]
  },
  {
   "cell_type": "markdown",
   "id": "7e561cbb-a5c2-471e-923c-a49b7d9e4c62",
   "metadata": {},
   "source": [
    "49. Check if a tuple contains another tuple as a subsequence."
   ]
  },
  {
   "cell_type": "code",
   "execution_count": 10,
   "id": "9e96f9ff-df07-46bf-a59e-1cdbef42149d",
   "metadata": {},
   "outputs": [
    {
     "name": "stdout",
     "output_type": "stream",
     "text": [
      "Main tuple contains subsequence tuple: True\n"
     ]
    }
   ],
   "source": [
    "\n",
    "def contains_subsequence(main_tuple, sub_tuple):\n",
    "    sub_length = len(sub_tuple)\n",
    "    for i in range(len(main_tuple) - sub_length + 1):\n",
    "        if main_tuple[i:i+sub_length] == sub_tuple:\n",
    "            return True\n",
    "    return False\n",
    "\n",
    "\n",
    "main_tuple = (1, 2, 3, 4, 5, 6, 7, 8, 9)\n",
    "\n",
    "\n",
    "sub_tuple = (3, 4, 5)\n",
    "\n",
    "\n",
    "contains_subseq = contains_subsequence(main_tuple, sub_tuple)\n",
    "\n",
    "\n",
    "print(\"Main tuple contains subsequence tuple:\", contains_subseq)"
   ]
  },
  {
   "cell_type": "markdown",
   "id": "85881b11-2ad9-411c-8b45-76ef83112c5a",
   "metadata": {},
   "source": [
    "50. Create a tuple of alternating 1s and 0s of length `n`."
   ]
  },
  {
   "cell_type": "code",
   "execution_count": 11,
   "id": "e0b8cf50-3960-48df-966f-38dd1218c4ad",
   "metadata": {},
   "outputs": [
    {
     "name": "stdout",
     "output_type": "stream",
     "text": [
      "Tuple of alternating 1s and 0s: (0, 1, 0, 1, 0, 1, 0, 1, 0, 1)\n"
     ]
    }
   ],
   "source": [
    "\n",
    "n = 10\n",
    "\n",
    "\n",
    "alternating_tuple = tuple(i % 2 for i in range(n))\n",
    "\n",
    "\n",
    "print(\"Tuple of alternating 1s and 0s:\", alternating_tuple)"
   ]
  },
  {
   "cell_type": "markdown",
   "id": "a9000a1b-174c-4bb0-8866-9aa3c99636fc",
   "metadata": {},
   "source": [
    "Set Based Practice Problem"
   ]
  },
  {
   "cell_type": "markdown",
   "id": "f566ea03-7801-4498-aa16-135554d1ea68",
   "metadata": {},
   "source": [
    "1. Create a set with integers from 1 to 5."
   ]
  },
  {
   "cell_type": "code",
   "execution_count": 1,
   "id": "22cf6a4e-e74a-4031-9855-aec0232ed267",
   "metadata": {},
   "outputs": [
    {
     "name": "stdout",
     "output_type": "stream",
     "text": [
      "{0, 1, 2, 3, 4, 5}\n"
     ]
    }
   ],
   "source": [
    "s = [i for i in range(6)]\n",
    "\n",
    "set_int = set(s)\n",
    "\n",
    "print(set_int)"
   ]
  },
  {
   "cell_type": "markdown",
   "id": "f256ca2c-452a-49ea-9bb7-e08cb4de1751",
   "metadata": {},
   "source": [
    "2. Add an element to a set."
   ]
  },
  {
   "cell_type": "code",
   "execution_count": 2,
   "id": "b0a20fe6-cbaf-44cf-98f1-c205d9588e68",
   "metadata": {},
   "outputs": [
    {
     "name": "stdout",
     "output_type": "stream",
     "text": [
      "{1, 2, 3, 6}\n"
     ]
    }
   ],
   "source": [
    "s = {1,2,3}\n",
    "\n",
    "s.add(6)\n",
    "\n",
    "print(s)"
   ]
  },
  {
   "cell_type": "markdown",
   "id": "6b0b782d-9261-4cdc-8457-af2568362924",
   "metadata": {},
   "source": [
    "3. Remove an element from a set."
   ]
  },
  {
   "cell_type": "code",
   "execution_count": 3,
   "id": "6576aa7b-2275-4825-8971-a7f410e5c612",
   "metadata": {},
   "outputs": [
    {
     "name": "stdout",
     "output_type": "stream",
     "text": [
      "{1, 2}\n"
     ]
    }
   ],
   "source": [
    "s = {1,2,3}\n",
    "\n",
    "s.remove(3)\n",
    "\n",
    "print(s)"
   ]
  },
  {
   "cell_type": "markdown",
   "id": "20afc62e-0130-455e-b8ec-f0a8145bf5a0",
   "metadata": {},
   "source": [
    "4. Check if an element exists in a set."
   ]
  },
  {
   "cell_type": "code",
   "execution_count": 6,
   "id": "ebb845bc-5b84-48b7-b0d1-a92823d20329",
   "metadata": {},
   "outputs": [
    {
     "name": "stdout",
     "output_type": "stream",
     "text": [
      "it doesn't exist\n"
     ]
    }
   ],
   "source": [
    "s = {1,2,4}\n",
    "\n",
    "if 3 in s:\n",
    "    print(\"it exists\")\n",
    "else:\n",
    "    print(\"it doesn't exist\")"
   ]
  },
  {
   "cell_type": "markdown",
   "id": "56428aaa-dcde-45fb-97c3-cc10606d6a81",
   "metadata": {},
   "source": [
    "5. Find the length of a set without using the `len()` function."
   ]
  },
  {
   "cell_type": "code",
   "execution_count": 9,
   "id": "5c9ecbb7-31ec-475d-aff4-701fa74f938a",
   "metadata": {},
   "outputs": [
    {
     "name": "stdout",
     "output_type": "stream",
     "text": [
      "the length is: 5\n"
     ]
    }
   ],
   "source": [
    "s = {1,2,4,6,8}\n",
    "\n",
    "count = 0\n",
    "\n",
    "for i in s:\n",
    "    count = count + 1\n",
    "    \n",
    "print(\"the length is:\", count)"
   ]
  },
  {
   "cell_type": "markdown",
   "id": "c84a8caa-120d-419c-b37e-b5fca879b3c8",
   "metadata": {},
   "source": [
    "6. Clear all elements from a set."
   ]
  },
  {
   "cell_type": "code",
   "execution_count": 10,
   "id": "c3b69d8e-1128-4aa3-b82b-137cc5202e48",
   "metadata": {},
   "outputs": [
    {
     "name": "stdout",
     "output_type": "stream",
     "text": [
      "set()\n"
     ]
    }
   ],
   "source": [
    "s = {1,2,4,6,8}\n",
    "\n",
    "s.clear()\n",
    "\n",
    "print(s)"
   ]
  },
  {
   "cell_type": "markdown",
   "id": "bb31e10b-21da-4273-828b-c306ae5f7538",
   "metadata": {},
   "source": [
    "7. Create a set of even numbers from 1 to 10."
   ]
  },
  {
   "cell_type": "code",
   "execution_count": 13,
   "id": "43fb83a9-f6a7-4d14-ad2b-fa0cab714cfb",
   "metadata": {},
   "outputs": [
    {
     "name": "stdout",
     "output_type": "stream",
     "text": [
      "{2, 4, 6, 8, 10}\n"
     ]
    }
   ],
   "source": [
    "s = [i for i in range(1,11) if i%2==0]\n",
    "\n",
    "print(set(s))"
   ]
  },
  {
   "cell_type": "markdown",
   "id": "22c982c9-c248-4d43-9f65-0a4c4c1144eb",
   "metadata": {},
   "source": [
    "8. Create a set of odd numbers from 1 to 10."
   ]
  },
  {
   "cell_type": "code",
   "execution_count": 14,
   "id": "bacc718a-4f93-4715-b1e9-1f978224bb5a",
   "metadata": {},
   "outputs": [
    {
     "name": "stdout",
     "output_type": "stream",
     "text": [
      "{1, 3, 5, 7, 9}\n"
     ]
    }
   ],
   "source": [
    "s = [i for i in range(1,11) if not i%2==0]\n",
    "\n",
    "print(set(s))"
   ]
  },
  {
   "cell_type": "markdown",
   "id": "b8f15138-bbcc-42bc-96cb-b0cdd586a062",
   "metadata": {},
   "source": [
    "9. Find the union of two sets."
   ]
  },
  {
   "cell_type": "code",
   "execution_count": 15,
   "id": "0e0c6ce8-23bf-4e8f-8426-299c8e3aaa2e",
   "metadata": {},
   "outputs": [
    {
     "name": "stdout",
     "output_type": "stream",
     "text": [
      "{1, 2, 3, 4}\n"
     ]
    }
   ],
   "source": [
    "s1 = {1,2}\n",
    "\n",
    "s2 = {3,4}\n",
    "\n",
    "s = s1.union(s2)\n",
    "\n",
    "print(s)"
   ]
  },
  {
   "cell_type": "markdown",
   "id": "20f10958-5a12-444f-99d0-c6a0506a1b75",
   "metadata": {},
   "source": [
    "10. Find the intersection of two sets."
   ]
  },
  {
   "cell_type": "code",
   "execution_count": 16,
   "id": "a61a473b-0df7-4701-9b34-852fcf19ccdf",
   "metadata": {},
   "outputs": [
    {
     "name": "stdout",
     "output_type": "stream",
     "text": [
      "{1}\n"
     ]
    }
   ],
   "source": [
    "s1 = {1,2}\n",
    "\n",
    "s2 = {1, 3,4}\n",
    "\n",
    "s = s1.intersection(s2)\n",
    "\n",
    "print(s)"
   ]
  },
  {
   "cell_type": "markdown",
   "id": "34392886-5619-457c-94b9-0a5008f8ff67",
   "metadata": {},
   "source": [
    "11. Find the difference between two sets."
   ]
  },
  {
   "cell_type": "code",
   "execution_count": 17,
   "id": "01e06600-7971-45ee-943d-8b5e47af3c21",
   "metadata": {},
   "outputs": [
    {
     "name": "stdout",
     "output_type": "stream",
     "text": [
      "{2}\n"
     ]
    }
   ],
   "source": [
    "s1 = {1,2}\n",
    "\n",
    "s2 = {1, 3,4}\n",
    "\n",
    "s = s1.difference(s2)\n",
    "\n",
    "print(s)"
   ]
  },
  {
   "cell_type": "markdown",
   "id": "045fc97b-d352-42c4-9b78-29060abe430c",
   "metadata": {},
   "source": [
    "12. Check if a set is a subset of another set."
   ]
  },
  {
   "cell_type": "code",
   "execution_count": 21,
   "id": "0252af94-a70b-43c6-a87c-4bc8a5222e66",
   "metadata": {},
   "outputs": [
    {
     "name": "stdout",
     "output_type": "stream",
     "text": [
      "True\n"
     ]
    }
   ],
   "source": [
    "s1 = {1,2}\n",
    "\n",
    "s2 = {1, 2, 4, 5}\n",
    "\n",
    "print(s1.issubset(s2))"
   ]
  },
  {
   "cell_type": "markdown",
   "id": "24a7607f-5fa8-4de9-84a1-dcb085394eaf",
   "metadata": {},
   "source": [
    "13. Check if a set is a superset of another set."
   ]
  },
  {
   "cell_type": "code",
   "execution_count": 23,
   "id": "d0ea2407-1bac-4ea3-ac78-2483c77e6173",
   "metadata": {},
   "outputs": [
    {
     "name": "stdout",
     "output_type": "stream",
     "text": [
      "True\n"
     ]
    }
   ],
   "source": [
    "s1 = {1,2}\n",
    "\n",
    "s2 = {1, 2, 4, 5}\n",
    "\n",
    "print(s2.issuperset(s1))"
   ]
  },
  {
   "cell_type": "markdown",
   "id": "4a6644ab-0c8c-4728-bd38-eec64658e997",
   "metadata": {},
   "source": [
    "14. Create a set from a list."
   ]
  },
  {
   "cell_type": "code",
   "execution_count": 24,
   "id": "c52c726b-305f-471f-8804-774ea3efbce0",
   "metadata": {},
   "outputs": [
    {
     "name": "stdout",
     "output_type": "stream",
     "text": [
      "{1, 2, 3, 4}\n"
     ]
    }
   ],
   "source": [
    "l = [1,2,3,4]\n",
    "\n",
    "s = set(l)\n",
    "\n",
    "print(s)"
   ]
  },
  {
   "cell_type": "markdown",
   "id": "978b9f0a-880f-4c21-ab01-45215e707f4a",
   "metadata": {},
   "source": [
    "15. Convert a set to a list."
   ]
  },
  {
   "cell_type": "code",
   "execution_count": 25,
   "id": "f793e251-d2a2-4aa0-ba93-db14f86f42b7",
   "metadata": {},
   "outputs": [
    {
     "name": "stdout",
     "output_type": "stream",
     "text": [
      "[1, 2, 3, 4]\n"
     ]
    }
   ],
   "source": [
    "s = {1, 2, 3, 4}\n",
    "\n",
    "l = list(s)\n",
    "\n",
    "print(l)"
   ]
  },
  {
   "cell_type": "markdown",
   "id": "f2cd4b1f-176f-4470-8f25-846878df6b14",
   "metadata": {},
   "source": [
    "16. Remove a random element from a set."
   ]
  },
  {
   "cell_type": "code",
   "execution_count": 28,
   "id": "bce8b874-f200-479e-9f97-3c7c52c4d3ce",
   "metadata": {},
   "outputs": [
    {
     "name": "stdout",
     "output_type": "stream",
     "text": [
      "Original set: {1, 2, 3, 4, 5}\n",
      "Updated set after removing 2 : {1, 3, 4, 5}\n"
     ]
    }
   ],
   "source": [
    "import random  \n",
    "\n",
    "\n",
    "my_set = {1, 2, 3, 4, 5}\n",
    "\n",
    "\n",
    "print(\"Original set:\", my_set)\n",
    "\n",
    "\n",
    "random_element = random.choice(list(my_set))\n",
    "\n",
    "\n",
    "my_set.remove(random_element)\n",
    "\n",
    "print(\"Updated set after removing\", random_element, \":\", my_set)"
   ]
  },
  {
   "cell_type": "markdown",
   "id": "a161818b-5156-49f9-919b-2888f7fb53a4",
   "metadata": {},
   "source": [
    "17. Pop an element from a set."
   ]
  },
  {
   "cell_type": "code",
   "execution_count": 30,
   "id": "e753064c-ac39-480d-a739-b855288f7a0b",
   "metadata": {},
   "outputs": [
    {
     "name": "stdout",
     "output_type": "stream",
     "text": [
      "{3, 5}\n"
     ]
    }
   ],
   "source": [
    "s = {2,3,5}\n",
    "\n",
    "s.pop()\n",
    "\n",
    "print(s)"
   ]
  },
  {
   "cell_type": "markdown",
   "id": "d4fdcd3b-61dc-45e2-ae24-479fcd96878b",
   "metadata": {},
   "source": [
    "18. Check if two sets have no elements in common."
   ]
  },
  {
   "cell_type": "code",
   "execution_count": 33,
   "id": "74383589-52a2-485d-a47b-36ee120a193b",
   "metadata": {},
   "outputs": [
    {
     "name": "stdout",
     "output_type": "stream",
     "text": [
      "The two sets have common elements: {1}\n"
     ]
    }
   ],
   "source": [
    "set1 = {1, 2, 3, 4}\n",
    "set2 = {5, 6, 7, 8, 1}\n",
    "\n",
    "\n",
    "common_elements = set1.intersection(set2)\n",
    "\n",
    "\n",
    "if not common_elements:\n",
    "    print(\"The two sets have no elements in common.\")\n",
    "else:\n",
    "    print(\"The two sets have common elements:\", common_elements)"
   ]
  },
  {
   "cell_type": "markdown",
   "id": "3f4e26b2-9f33-4f03-bc6a-ba91d73208ad",
   "metadata": {},
   "source": [
    "19. Find the symmetric difference between two sets."
   ]
  },
  {
   "cell_type": "code",
   "execution_count": 34,
   "id": "844cdf79-1f74-4fab-a887-a02f539f7b3c",
   "metadata": {},
   "outputs": [
    {
     "name": "stdout",
     "output_type": "stream",
     "text": [
      "{2, 3, 4, 5, 6, 7, 8}\n"
     ]
    }
   ],
   "source": [
    "set1 = {1, 2, 3, 4}\n",
    "set2 = {5, 6, 7, 8, 1}\n",
    "\n",
    "print(set1.symmetric_difference(set2))"
   ]
  },
  {
   "cell_type": "markdown",
   "id": "02aaee94-4b46-4f3f-829b-54de3928dfc0",
   "metadata": {},
   "source": [
    "20. Update a set with elements from another set."
   ]
  },
  {
   "cell_type": "code",
   "execution_count": 2,
   "id": "b60333a2-a3eb-4423-9cfc-28d2a616a8be",
   "metadata": {},
   "outputs": [
    {
     "name": "stdout",
     "output_type": "stream",
     "text": [
      "{1, 2, 3, 4, 5, 6, 7, 8}\n"
     ]
    }
   ],
   "source": [
    "set1 = {1, 2, 3, 4}\n",
    "set2 = {5, 6, 7, 8, 1}\n",
    "\n",
    "s = set1.update(set2)\n",
    "\n",
    "print(set1)"
   ]
  },
  {
   "cell_type": "markdown",
   "id": "3bd6cd1b-89d3-40bc-be7c-1950370348f7",
   "metadata": {},
   "source": [
    "21. Create a set of the first 5 prime numbers."
   ]
  },
  {
   "cell_type": "code",
   "execution_count": 3,
   "id": "bdf37e8b-9353-4424-9002-277f54fe98ea",
   "metadata": {},
   "outputs": [
    {
     "name": "stdout",
     "output_type": "stream",
     "text": [
      "Set of the first 5 prime numbers: {2, 3, 5, 7, 11}\n"
     ]
    }
   ],
   "source": [
    "\n",
    "def is_prime(num):\n",
    "    if num <= 1:\n",
    "        return False\n",
    "    for i in range(2, int(num ** 0.5) + 1):\n",
    "        if num % i == 0:\n",
    "            return False\n",
    "    return True\n",
    "\n",
    "\n",
    "prime_set = set()\n",
    "\n",
    "\n",
    "num = 2\n",
    "\n",
    "\n",
    "while len(prime_set) < 5:\n",
    "   \n",
    "    if is_prime(num):\n",
    "       \n",
    "        prime_set.add(num)\n",
    "\n",
    "    \n",
    "    num += 1\n",
    "\n",
    "\n",
    "print(\"Set of the first 5 prime numbers:\", prime_set)"
   ]
  },
  {
   "cell_type": "markdown",
   "id": "fbe0f0b2-644f-4774-b4a5-3353bb050842",
   "metadata": {},
   "source": [
    "22. Check if two sets are identical."
   ]
  },
  {
   "cell_type": "code",
   "execution_count": 4,
   "id": "e7592163-2a42-4cdb-99e5-e32fed0f0535",
   "metadata": {},
   "outputs": [
    {
     "name": "stdout",
     "output_type": "stream",
     "text": [
      "The sets are identical.\n"
     ]
    }
   ],
   "source": [
    "set1 = {1, 2, 3, 4, 5}\n",
    "set2 = {3, 1, 5, 2, 4}  \n",
    "\n",
    "if set1 == set2:\n",
    "    print(\"The sets are identical.\")\n",
    "else:\n",
    "    print(\"The sets are not identical.\")"
   ]
  },
  {
   "cell_type": "markdown",
   "id": "6b5f0e89-5473-45e4-aaa0-34aed9f9b6e2",
   "metadata": {},
   "source": [
    "23. Create a frozen set."
   ]
  },
  {
   "cell_type": "code",
   "execution_count": 5,
   "id": "56bb4d74-44f2-4a2e-b00c-b73bd09c13ce",
   "metadata": {},
   "outputs": [
    {
     "name": "stdout",
     "output_type": "stream",
     "text": [
      "frozenset({1, 2, 3, 4})\n"
     ]
    }
   ],
   "source": [
    "e = [1,2,3,4]\n",
    "\n",
    "f = frozenset(e)\n",
    "\n",
    "print(f)"
   ]
  },
  {
   "cell_type": "markdown",
   "id": "a7374cdf-b0e5-4b5f-80fb-654452642fc9",
   "metadata": {},
   "source": [
    "24. Check if a set is disjoint with another set."
   ]
  },
  {
   "cell_type": "code",
   "execution_count": 7,
   "id": "c8a4b2dd-fedd-434f-a455-3934f2b2f6a6",
   "metadata": {},
   "outputs": [
    {
     "name": "stdout",
     "output_type": "stream",
     "text": [
      "True\n"
     ]
    }
   ],
   "source": [
    "set1 = {1, 2, 3, 4, 5}\n",
    "set2 = {15}\n",
    "\n",
    "print(set1.isdisjoint(set2))"
   ]
  },
  {
   "cell_type": "markdown",
   "id": "b051d340-92a1-45bf-97c0-712f16a4f01f",
   "metadata": {},
   "source": [
    "25. Create a set of squares of numbers from 1 to 5."
   ]
  },
  {
   "cell_type": "code",
   "execution_count": 8,
   "id": "abe0ee00-adf2-4d90-8436-31c41cc0d01b",
   "metadata": {},
   "outputs": [
    {
     "name": "stdout",
     "output_type": "stream",
     "text": [
      "{1, 4, 9, 16, 25}\n"
     ]
    }
   ],
   "source": [
    "s = [i*i for i in range(1,6)]\n",
    "\n",
    "print(set(s))"
   ]
  },
  {
   "cell_type": "markdown",
   "id": "8b26915c-0d7b-41c9-8d48-d0e939b18c32",
   "metadata": {},
   "source": [
    "26. Filter out all even numbers from a set."
   ]
  },
  {
   "cell_type": "code",
   "execution_count": 9,
   "id": "6eb452f5-14fd-42ff-9ac9-1f9385a9ff0b",
   "metadata": {},
   "outputs": [
    {
     "name": "stdout",
     "output_type": "stream",
     "text": [
      "{4, 6}\n"
     ]
    }
   ],
   "source": [
    "s = {1,3,4,6}\n",
    "\n",
    "even = set()\n",
    "\n",
    "for i in s:\n",
    "    if i%2==0:\n",
    "        even.add(i)\n",
    "print(even)"
   ]
  },
  {
   "cell_type": "markdown",
   "id": "ce7e1aea-8d42-4178-9847-ece29efc00be",
   "metadata": {},
   "source": [
    "27. Multiply all elements in a set by 2."
   ]
  },
  {
   "cell_type": "code",
   "execution_count": 12,
   "id": "f6533e4e-c4b8-4538-aec3-177d627d6af5",
   "metadata": {},
   "outputs": [
    {
     "name": "stdout",
     "output_type": "stream",
     "text": [
      "{8, 2, 12, 6}\n"
     ]
    }
   ],
   "source": [
    "s = {1,3,4,6}\n",
    "\n",
    "s2 = set()\n",
    "\n",
    "for i in s:\n",
    "    s2.add(i*2)\n",
    "print(s2)"
   ]
  },
  {
   "cell_type": "markdown",
   "id": "9da0035b-46a5-4171-ac6c-4b5ba3078212",
   "metadata": {},
   "source": [
    "28. Create a set of random numbers."
   ]
  },
  {
   "cell_type": "code",
   "execution_count": 14,
   "id": "1853d2ab-a7d4-40db-895a-5b58eeaf1ffb",
   "metadata": {},
   "outputs": [
    {
     "name": "stdout",
     "output_type": "stream",
     "text": [
      "Generated set of random numbers: {66, 9, 83, 87, 28}\n"
     ]
    }
   ],
   "source": [
    "import random\n",
    "\n",
    "random_number_set = set()\n",
    "num_random_numbers = 5\n",
    "\n",
    "for _ in range(num_random_numbers):\n",
    "    \n",
    "    random_num = random.randint(1, 100)  \n",
    "    \n",
    "    random_number_set.add(random_num)\n",
    "\n",
    "\n",
    "print(\"Generated set of random numbers:\", random_number_set)"
   ]
  },
  {
   "cell_type": "markdown",
   "id": "0a356c3b-4ea1-4be2-a516-0cba066a012d",
   "metadata": {},
   "source": [
    "29. Check if a set is empty."
   ]
  },
  {
   "cell_type": "code",
   "execution_count": 15,
   "id": "0c9e1ad5-52f5-4657-b478-aff5f38d41ca",
   "metadata": {},
   "outputs": [
    {
     "name": "stdout",
     "output_type": "stream",
     "text": [
      "set is empty\n"
     ]
    }
   ],
   "source": [
    "s = set()\n",
    "\n",
    "if len(s)==0:\n",
    "    print(\"set is empty\")\n",
    "else:\n",
    "    print(\"set isn't empty\")"
   ]
  },
  {
   "cell_type": "markdown",
   "id": "82aaf01d-059c-49e1-abea-2f4ba4c0a604",
   "metadata": {},
   "source": [
    "30. Create a nested set (hint: use frozenset)."
   ]
  },
  {
   "cell_type": "code",
   "execution_count": 16,
   "id": "cc13de60-11e3-41cc-8f17-40e8a9758793",
   "metadata": {},
   "outputs": [
    {
     "name": "stdout",
     "output_type": "stream",
     "text": [
      "Nested Set: {frozenset({1, 2, 3, 4, 5}), frozenset({6, 7, 8, 9, 10})}\n"
     ]
    }
   ],
   "source": [
    "\n",
    "set1 = {1, 2, 3, 4, 5}\n",
    "set2 = {6, 7, 8, 9, 10}\n",
    "\n",
    "\n",
    "frozen_set1 = frozenset(set1)\n",
    "frozen_set2 = frozenset(set2)\n",
    "\n",
    "\n",
    "nested_set = {frozen_set1, frozen_set2}\n",
    "\n",
    "print(\"Nested Set:\", nested_set)"
   ]
  },
  {
   "cell_type": "markdown",
   "id": "421ce141-6277-4ec1-9498-716f878b081d",
   "metadata": {},
   "source": [
    "31. Remove an element from a set using the discard method."
   ]
  },
  {
   "cell_type": "code",
   "execution_count": 17,
   "id": "59c6b894-c814-4cfe-8a13-db2f0b4117cb",
   "metadata": {},
   "outputs": [
    {
     "name": "stdout",
     "output_type": "stream",
     "text": [
      "{2, 3, 4, 5}\n"
     ]
    }
   ],
   "source": [
    "set1 = {1, 2, 3, 4, 5}\n",
    "\n",
    "set1.discard(1)\n",
    "\n",
    "print(set1)"
   ]
  },
  {
   "cell_type": "markdown",
   "id": "dbaa48b9-69dc-42ad-8a86-a62df1535fdd",
   "metadata": {},
   "source": [
    "32. Compare two sets."
   ]
  },
  {
   "cell_type": "code",
   "execution_count": 18,
   "id": "79d263a3-282c-427f-89c5-035ae6098ee3",
   "metadata": {},
   "outputs": [
    {
     "name": "stdout",
     "output_type": "stream",
     "text": [
      "Set 1: {1, 2, 3, 4, 5}\n",
      "Set 2: {4, 5, 6, 7, 8}\n",
      "Is set1 a subset of set2? False\n",
      "Is set2 a subset of set1? False\n",
      "Intersection: {4, 5}\n",
      "Union: {1, 2, 3, 4, 5, 6, 7, 8}\n",
      "Elements in set1 but not in set2: {1, 2, 3}\n",
      "Elements in set2 but not in set1: {8, 6, 7}\n"
     ]
    }
   ],
   "source": [
    "set1 = {1, 2, 3, 4, 5}\n",
    "set2 = {4, 5, 6, 7, 8}\n",
    "\n",
    "\n",
    "is_subset = set1.issubset(set2)\n",
    "\n",
    "\n",
    "is_superset = set1.issuperset(set2)\n",
    "\n",
    "\n",
    "intersection = set1.intersection(set2)\n",
    "\n",
    "\n",
    "union = set1.union(set2)\n",
    "\n",
    "\n",
    "difference1 = set1.difference(set2)\n",
    "\n",
    "\n",
    "difference2 = set2.difference(set1)\n",
    "\n",
    "\n",
    "print(\"Set 1:\", set1)\n",
    "print(\"Set 2:\", set2)\n",
    "print(\"Is set1 a subset of set2?\", is_subset)\n",
    "print(\"Is set2 a subset of set1?\", is_superset)\n",
    "print(\"Intersection:\", intersection)\n",
    "print(\"Union:\", union)\n",
    "print(\"Elements in set1 but not in set2:\", difference1)\n",
    "print(\"Elements in set2 but not in set1:\", difference2)"
   ]
  },
  {
   "cell_type": "markdown",
   "id": "8da6daf8-16ee-4267-8c41-d1bcb2b084f5",
   "metadata": {},
   "source": [
    "33. Create a set from a string.\n",
    "\n"
   ]
  },
  {
   "cell_type": "code",
   "execution_count": 20,
   "id": "218120bc-7030-4f21-afd7-4a1c6cb87bda",
   "metadata": {},
   "outputs": [
    {
     "name": "stdout",
     "output_type": "stream",
     "text": [
      "{'a', 'y', 's', 'n'}\n"
     ]
    }
   ],
   "source": [
    "st = \"sayan\"\n",
    "\n",
    "s = set(st)\n",
    "\n",
    "print(s)"
   ]
  },
  {
   "cell_type": "markdown",
   "id": "96d04cf1-66cb-48f2-88ae-326656f43ba1",
   "metadata": {},
   "source": [
    "34. Convert a set of strings to a set of integers."
   ]
  },
  {
   "cell_type": "code",
   "execution_count": 25,
   "id": "edbb277c-43a1-461e-b357-fc97ae7ef9be",
   "metadata": {},
   "outputs": [
    {
     "name": "stdout",
     "output_type": "stream",
     "text": [
      "Original String Set: {'123', '789', '456'}\n",
      "Converted Integer Set: {456, 123, 789}\n"
     ]
    }
   ],
   "source": [
    "\n",
    "string_set = {\"123\", \"456\", \"789\"}\n",
    "\n",
    "\n",
    "integer_set = set()\n",
    "\n",
    "\n",
    "for string in string_set:\n",
    "    \n",
    "    integer_value = int(string)\n",
    "   \n",
    "    integer_set.add(integer_value)\n",
    "\n",
    "\n",
    "print(\"Original String Set:\", string_set)\n",
    "print(\"Converted Integer Set:\", integer_set)"
   ]
  },
  {
   "cell_type": "markdown",
   "id": "89c4416a-a272-4388-9916-ca9f0a49bfba",
   "metadata": {},
   "source": [
    "35. Convert a set of integers to a set of strings."
   ]
  },
  {
   "cell_type": "code",
   "execution_count": 29,
   "id": "9b5f921f-6d20-4dd5-8b39-781d60d2bf2c",
   "metadata": {},
   "outputs": [
    {
     "name": "stdout",
     "output_type": "stream",
     "text": [
      "Original String Set: {456, 123, 789}\n",
      "Converted Integer Set: {'123', '789', '456'}\n"
     ]
    }
   ],
   "source": [
    "int_set = {123, 456, 789}\n",
    "\n",
    "\n",
    "str_set = set()\n",
    "\n",
    "\n",
    "for string in int_set:\n",
    "    \n",
    "    str_value = str(string)\n",
    "   \n",
    "    str_set.add(str_value)\n",
    "\n",
    "\n",
    "print(\"Original String Set:\", int_set)\n",
    "print(\"Converted Integer Set:\", str_set)"
   ]
  },
  {
   "cell_type": "markdown",
   "id": "fb6b5c82-9194-49e7-928b-c8098b85d00c",
   "metadata": {},
   "source": [
    "36. Create a set from a tuple."
   ]
  },
  {
   "cell_type": "markdown",
   "id": "e70c84c8-4137-42b7-b416-e3223a61611b",
   "metadata": {},
   "source": [
    "t = (1,2,3)\n",
    "\n",
    "print(set(t))"
   ]
  },
  {
   "cell_type": "markdown",
   "id": "0f253311-49c5-4120-b710-8c6e7ada13dc",
   "metadata": {},
   "source": [
    "37. Convert a set to a tuple."
   ]
  },
  {
   "cell_type": "code",
   "execution_count": 33,
   "id": "2fa73219-7c87-4661-9350-cd7eeb13e74e",
   "metadata": {},
   "outputs": [
    {
     "name": "stdout",
     "output_type": "stream",
     "text": [
      "(1, 2, 3)\n"
     ]
    }
   ],
   "source": [
    "s = {1, 2, 3}\n",
    "\n",
    "print(tuple(s))"
   ]
  },
  {
   "cell_type": "markdown",
   "id": "7004a3eb-6d3d-4ea8-98a2-94b65e354a14",
   "metadata": {},
   "source": [
    "38. Find the maximum value in a set."
   ]
  },
  {
   "cell_type": "code",
   "execution_count": 38,
   "id": "57b264f3-d622-4af1-91f1-e22fbd5635ea",
   "metadata": {},
   "outputs": [
    {
     "name": "stdout",
     "output_type": "stream",
     "text": [
      "Maximum value: 22\n"
     ]
    }
   ],
   "source": [
    "my_set = {15, 7, 22, 13, 8}\n",
    "\n",
    "\n",
    "max_value = None\n",
    "\n",
    "\n",
    "for num in my_set:\n",
    "   \n",
    "    if max_value is None or num > max_value:\n",
    "        max_value = num  \n",
    "\n",
    "\n",
    "print(\"Maximum value:\", max_value)"
   ]
  },
  {
   "cell_type": "markdown",
   "id": "9e4e99db-87e8-4e1a-8a63-33c06eb6bd30",
   "metadata": {},
   "source": [
    "39. Find the minimum value in a set."
   ]
  },
  {
   "cell_type": "code",
   "execution_count": 41,
   "id": "f7b168c7-18b1-4600-9971-dedea764e3ed",
   "metadata": {},
   "outputs": [
    {
     "name": "stdout",
     "output_type": "stream",
     "text": [
      "Maximum value: 7\n"
     ]
    }
   ],
   "source": [
    "my_set = {15, 7, 22, 13, 8}\n",
    "\n",
    "\n",
    "min_value = None\n",
    "\n",
    "\n",
    "for num in my_set:\n",
    "   \n",
    "    if min_value is None or num < min_value:\n",
    "        min_value = num  \n",
    "\n",
    "\n",
    "print(\"Maximum value:\", min_value)"
   ]
  },
  {
   "cell_type": "markdown",
   "id": "4529ede0-331e-4968-98f9-1dcc03d3cb5f",
   "metadata": {},
   "source": [
    "40. Create a set from user input."
   ]
  },
  {
   "cell_type": "code",
   "execution_count": 43,
   "id": "424707c7-0657-49a6-a763-c2cc775b1838",
   "metadata": {},
   "outputs": [
    {
     "name": "stdout",
     "output_type": "stream",
     "text": [
      "Enter elements for the set (type 'done' to finish):\n"
     ]
    },
    {
     "name": "stdin",
     "output_type": "stream",
     "text": [
      ">  sayan\n",
      ">  saha\n",
      ">  done\n"
     ]
    },
    {
     "name": "stdout",
     "output_type": "stream",
     "text": [
      "Final set: {'sayan', 'saha'}\n"
     ]
    }
   ],
   "source": [
    "user_set = set()\n",
    "\n",
    "\n",
    "print(\"Enter elements for the set (type 'done' to finish):\")\n",
    "while True:\n",
    "    user_input = input(\"> \")  \n",
    "\n",
    "    if user_input.lower() == 'done':\n",
    "        break  \n",
    "\n",
    "\n",
    "    user_set.add(user_input)\n",
    "\n",
    "print(\"Final set:\", user_set)"
   ]
  },
  {
   "cell_type": "markdown",
   "id": "bb52ebaa-c3ae-4c54-ab65-69307c38c992",
   "metadata": {},
   "source": [
    "41. Check if the intersection of two sets is empty."
   ]
  },
  {
   "cell_type": "code",
   "execution_count": 44,
   "id": "871fd31f-f2f5-4865-9889-2d8e34cb6208",
   "metadata": {},
   "outputs": [
    {
     "name": "stdout",
     "output_type": "stream",
     "text": [
      "The intersection of the two sets is not empty.\n"
     ]
    }
   ],
   "source": [
    "set1 = {1, 2, 3, 4, 5}\n",
    "set2 = {4, 5, 6, 7, 8}\n",
    "\n",
    "\n",
    "intersection_result = set1.intersection(set2)\n",
    "\n",
    "\n",
    "if not intersection_result:\n",
    "    print(\"The intersection of the two sets is empty.\")\n",
    "else:\n",
    "    print(\"The intersection of the two sets is not empty.\")"
   ]
  },
  {
   "cell_type": "markdown",
   "id": "e1d0821f-79d2-4192-b86e-a161ed6937fb",
   "metadata": {},
   "source": [
    "42. Create a set of the first 5 Fibonacci numbers."
   ]
  },
  {
   "cell_type": "code",
   "execution_count": 45,
   "id": "112d80c5-54c5-49f3-b37e-1b8983d75244",
   "metadata": {},
   "outputs": [
    {
     "name": "stdout",
     "output_type": "stream",
     "text": [
      "Set of the first 5 Fibonacci numbers: {0, 1, 2, 3, 5}\n"
     ]
    }
   ],
   "source": [
    "\n",
    "fibonacci_set = set()\n",
    "\n",
    "\n",
    "a, b = 0, 1\n",
    "\n",
    "\n",
    "for _ in range(6):\n",
    "    \n",
    "    fibonacci_set.add(a)\n",
    "\n",
    "  \n",
    "    a, b = b, a + b\n",
    "\n",
    "\n",
    "print(\"Set of the first 5 Fibonacci numbers:\", fibonacci_set)"
   ]
  },
  {
   "cell_type": "markdown",
   "id": "6a97a958-ac34-42e9-901d-eb20c0b9f27b",
   "metadata": {},
   "source": [
    "43. Remove duplicates from a list using sets."
   ]
  },
  {
   "cell_type": "code",
   "execution_count": 46,
   "id": "d00d3ed6-28d1-4277-b398-c250431796d7",
   "metadata": {},
   "outputs": [
    {
     "name": "stdout",
     "output_type": "stream",
     "text": [
      "{1, 2, 4}\n"
     ]
    }
   ],
   "source": [
    "ls = [1,1,2,2,4]\n",
    "\n",
    "print(set(ls))"
   ]
  },
  {
   "cell_type": "markdown",
   "id": "ee2f6aab-993b-42f4-94ff-5cc9ddd3c3c7",
   "metadata": {},
   "source": [
    "44. Check if two sets have the same elements, regardless of their count."
   ]
  },
  {
   "cell_type": "code",
   "execution_count": 47,
   "id": "090fb10e-a8b3-4bc1-9e24-31d5a80067d6",
   "metadata": {},
   "outputs": [
    {
     "name": "stdout",
     "output_type": "stream",
     "text": [
      "The sets have the same elements.\n"
     ]
    }
   ],
   "source": [
    "def have_same_elements(set1, set2):\n",
    " \n",
    "    sorted_list1 = sorted(list(set1))\n",
    "    sorted_list2 = sorted(list(set2))\n",
    "\n",
    "   \n",
    "    return sorted_list1 == sorted_list2\n",
    "\n",
    "set1 = {1, 2, 3, 2, 1}\n",
    "set2 = {3, 1, 2}\n",
    "\n",
    "result = have_same_elements(set1, set2)\n",
    "\n",
    "\n",
    "if result:\n",
    "    print(\"The sets have the same elements.\")\n",
    "else:\n",
    "    print(\"The sets do not have the same elements.\")"
   ]
  },
  {
   "cell_type": "markdown",
   "id": "de538092-a114-4c83-b448-bc80ea66026c",
   "metadata": {},
   "source": [
    "45. Create a set of the first `n` powers of 2."
   ]
  },
  {
   "cell_type": "code",
   "execution_count": 50,
   "id": "e5566a4a-5826-45ae-9ec9-7539d0b3ed7d",
   "metadata": {},
   "outputs": [
    {
     "name": "stdout",
     "output_type": "stream",
     "text": [
      "{1, 2, 4}\n"
     ]
    }
   ],
   "source": [
    "n = 3\n",
    "\n",
    "s = [2**i for i in range(n)]\n",
    "\n",
    "print(set(s))"
   ]
  },
  {
   "cell_type": "markdown",
   "id": "4003bb9a-a44c-4626-bbc3-7202f5869470",
   "metadata": {},
   "source": [
    "46. Find the common elements between a set and a list."
   ]
  },
  {
   "cell_type": "code",
   "execution_count": 51,
   "id": "e84b85f8-d9e6-4285-9115-f5ad13bbf2ca",
   "metadata": {},
   "outputs": [
    {
     "name": "stdout",
     "output_type": "stream",
     "text": [
      "Common elements: [7, 9, 12]\n"
     ]
    }
   ],
   "source": [
    "my_set = {3, 7, 9, 12, 15}\n",
    "my_list = [7, 12, 5, 9]\n",
    "\n",
    "\n",
    "list_to_set = set(my_list)\n",
    "\n",
    "\n",
    "common_elements = []\n",
    "\n",
    "\n",
    "for element in my_set:\n",
    "   \n",
    "    if element in list_to_set:\n",
    "     \n",
    "        common_elements.append(element)\n",
    "\n",
    "\n",
    "print(\"Common elements:\", common_elements)"
   ]
  },
  {
   "cell_type": "markdown",
   "id": "94f92893-4cfc-4d9d-a788-6e8e32afef8e",
   "metadata": {},
   "source": [
    "47. Create a set of the first `n` triangular numbers."
   ]
  },
  {
   "cell_type": "code",
   "execution_count": 52,
   "id": "2e480d90-0e6e-4e6d-a8dc-485e69e8759c",
   "metadata": {},
   "outputs": [
    {
     "name": "stdin",
     "output_type": "stream",
     "text": [
      "Enter the value of n:  5\n"
     ]
    },
    {
     "name": "stdout",
     "output_type": "stream",
     "text": [
      "The set of the first 5 triangular numbers is: {1, 3, 6, 10, 15}\n"
     ]
    }
   ],
   "source": [
    "def generate_triangular_numbers(n):\n",
    "    triangular_numbers = set()  \n",
    "    for i in range(1, n + 1):\n",
    "        triangular_number = i * (i + 1) // 2 \n",
    "        triangular_numbers.add(triangular_number)  \n",
    "    return triangular_numbers\n",
    "\n",
    "\n",
    "n = int(input(\"Enter the value of n: \"))\n",
    "\n",
    "\n",
    "triangular_set = generate_triangular_numbers(n)\n",
    "\n",
    "\n",
    "print(f\"The set of the first {n} triangular numbers is:\", triangular_set)"
   ]
  },
  {
   "cell_type": "markdown",
   "id": "27c023ba-06c9-4a2e-a336-5d01c80ab4fd",
   "metadata": {},
   "source": [
    "48. Check if a set contains another set as a subset."
   ]
  },
  {
   "cell_type": "code",
   "execution_count": 53,
   "id": "b3d3327b-0fa5-4427-89c5-0d12c2d66407",
   "metadata": {},
   "outputs": [
    {
     "name": "stdout",
     "output_type": "stream",
     "text": [
      "s2 is a subset of s1\n"
     ]
    }
   ],
   "source": [
    "s1 = {1, 2, 3}\n",
    "s2 = {2, 3}\n",
    "\n",
    "subset = s2.issubset(s1)\n",
    "\n",
    "if subset:\n",
    "    print(\"s2 is a subset of s1\")\n",
    "else:\n",
    "    print(\"s2 is not a subset of s1\")"
   ]
  },
  {
   "cell_type": "markdown",
   "id": "f04ca49f-f81c-4f25-9626-01cbc4fce360",
   "metadata": {},
   "source": [
    "49. Create a set of alternating 1s and 0s of length `n`."
   ]
  },
  {
   "cell_type": "code",
   "execution_count": 55,
   "id": "7d087c7d-e0d5-42ac-b8e4-16ffe6d8d2ef",
   "metadata": {},
   "outputs": [
    {
     "name": "stdout",
     "output_type": "stream",
     "text": [
      "{0, 1}\n"
     ]
    }
   ],
   "source": [
    "def create_alternating_set(n):\n",
    "    \n",
    "    alternating_set = set()\n",
    "\n",
    "  \n",
    "    for i in range(n):\n",
    "       \n",
    "        if i % 2 == 0:\n",
    "            alternating_set.add(1) \n",
    "        else:\n",
    "            alternating_set.add(0) \n",
    "\n",
    "    return alternating_set\n",
    "\n",
    "\n",
    "length_n = 10\n",
    "\n",
    "\n",
    "result = create_alternating_set(length_n)\n",
    "\n",
    "\n",
    "print(result)"
   ]
  },
  {
   "cell_type": "markdown",
   "id": "e283c89b-ca01-4ae9-b7c2-05cd33f22646",
   "metadata": {},
   "source": [
    "50. Merge multiple sets into one."
   ]
  },
  {
   "cell_type": "code",
   "execution_count": 56,
   "id": "a3c663c2-0af1-4e91-b4c1-167a136bbbd8",
   "metadata": {},
   "outputs": [
    {
     "name": "stdout",
     "output_type": "stream",
     "text": [
      "Merged Set: {1, 2, 3, 4, 5, 6, 7}\n"
     ]
    }
   ],
   "source": [
    "set1 = {1, 2, 3}\n",
    "set2 = {3, 4, 5}\n",
    "set3 = {5, 6, 7}\n",
    "\n",
    "\n",
    "merged_set = set1.union(set2, set3)\n",
    "\n",
    "print(\"Merged Set:\", merged_set)"
   ]
  },
  {
   "cell_type": "code",
   "execution_count": null,
   "id": "22651326-7c18-41fe-b6a4-c832cd6632b2",
   "metadata": {},
   "outputs": [],
   "source": []
  }
 ],
 "metadata": {
  "kernelspec": {
   "display_name": "Python 3 (ipykernel)",
   "language": "python",
   "name": "python3"
  },
  "language_info": {
   "codemirror_mode": {
    "name": "ipython",
    "version": 3
   },
   "file_extension": ".py",
   "mimetype": "text/x-python",
   "name": "python",
   "nbconvert_exporter": "python",
   "pygments_lexer": "ipython3",
   "version": "3.10.8"
  }
 },
 "nbformat": 4,
 "nbformat_minor": 5
}
